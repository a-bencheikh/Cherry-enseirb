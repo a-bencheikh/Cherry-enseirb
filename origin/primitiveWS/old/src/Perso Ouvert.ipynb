{
 "cells": [
  {
   "cell_type": "markdown",
   "metadata": {},
   "source": [
    "# NoteBook Personnalité Ouverte"
   ]
  },
  {
   "cell_type": "markdown",
   "metadata": {},
   "source": [
    "## Initialisation de Cherry"
   ]
  },
  {
   "cell_type": "code",
   "execution_count": null,
   "metadata": {
    "collapsed": false
   },
   "outputs": [],
   "source": [
    "import time\n",
    "from poppy.creatures import PoppyHumanoid\n",
    "from cherry import Cherry\n",
    "\n",
    "from pypot.primitive.move import MoveRecorder, Move, MovePlayer\n",
    "\n",
    "cherry = Cherry()\n",
    "cherry.setup()\n",
    "\n",
    "for m in cherry.robot.motors :\n",
    "    m.goal_position = 0.0\n",
    "    \n",
    "for m in cherry.robot.head :\n",
    "    m.compliant = False\n",
    "for m in cherry.robot.arms :\n",
    "    m.compliant = True\n",
    "\n",
    "cherry.robot.head_z.goal_position = 0.0\n",
    "cherry.robot.head_y.goal_position = 0.0"
   ]
  },
  {
   "cell_type": "markdown",
   "metadata": {},
   "source": [
    "## Initialisation thread audio"
   ]
  },
  {
   "cell_type": "code",
   "execution_count": null,
   "metadata": {
    "collapsed": true
   },
   "outputs": [],
   "source": [
    "import time\n",
    "import sys\n",
    "from threading import Thread, RLock\n",
    "import mp3play\n",
    "        \n",
    "class MP3Read(Thread):\n",
    "\n",
    "    \"\"\"Thread chargé\"\"\"\n",
    "\n",
    "    def __init__(self, fname):\n",
    "        Thread.__init__(self)\n",
    "        self.filename = fname\n",
    "\n",
    "    def run(self):\n",
    "        mp3 = mp3play.load(self.filename)\n",
    "        mp3.play()\n",
    "        time.sleep(min(35, mp3.seconds()))\n",
    "        mp3.stop()"
   ]
  },
  {
   "cell_type": "markdown",
   "metadata": {},
   "source": [
    "## Initialisation thread controle des mouvements"
   ]
  },
  {
   "cell_type": "code",
   "execution_count": null,
   "metadata": {
    "collapsed": true
   },
   "outputs": [],
   "source": [
    "#CHERRY OUVERT\n",
    "\n",
    "import pygame\n",
    "import time\n",
    "import random\n",
    "import sys\n",
    "from threading import Thread, RLock\n",
    "\n",
    "def get():\n",
    "    out = [0,0,0,0,0,0,0,0,0,0,0,0,0,0,0,0,0]\n",
    "    it = 0 #iterator\n",
    "    pygame.event.pump()\n",
    "    \n",
    "    #Read input from the two joysticks       \n",
    "    for i in range(0, j.get_numaxes()):\n",
    "        out[it] = j.get_axis(i)\n",
    "        it+=1\n",
    "\n",
    "    for i in range(0,j.get_numhats()):\n",
    "        out[it] = j.get_hat(i)\n",
    "        it+=1\n",
    "\n",
    "    #Read input from buttons\n",
    "    for i in range(0, j.get_numbuttons()):\n",
    "        out[it] = j.get_button(i)\n",
    "        it+=1\n",
    "    return out\n",
    "\n",
    "verrou = RLock()\n",
    "        \n",
    "class GamePadRead(Thread):\n",
    "\n",
    "    \"\"\"Thread chargé simplement d'afficher un mot dans la console.\"\"\"\n",
    "\n",
    "    def __init__(self, mot):\n",
    "        Thread.__init__(self)\n",
    "        self.mot = mot\n",
    "        self.running = False\n",
    "        self.zHead = cherry.robot.head_z.present_position\n",
    "        self.yHead = cherry.robot.head_y.present_position\n",
    "\n",
    "    def run(self):\n",
    "        \"\"\"Code à exécuter pendant l'exécution du thread.\"\"\"\n",
    "        self.running = True\n",
    "        \n",
    "        dir = '../resources/optional/audio/'\n",
    "        \n",
    "        while self.running:\n",
    "            with verrou:\n",
    "                tab = get()\n",
    "                \n",
    "                #Mouvement de tête avec le Hat\n",
    "                temp = tab[4][0]*2\n",
    "                if(-90<self.zHead+temp <90):\n",
    "                    self.zHead += tab[4][0]*2\n",
    "                \n",
    "                temp = tab[4][1]*(-2)\n",
    "                if(self.yHead+temp < 20):\n",
    "                    self.yHead += temp\n",
    "                \n",
    "                cherry.robot.head_z.goal_position = self.zHead\n",
    "                cherry.robot.head_y.goal_position = self.yHead\n",
    "                \n",
    "                \n",
    "                #Mouvement\n",
    "                if tab[5] == 1 :\n",
    "                    cherry.robot.rest_open_behave.start()\n",
    "                    threadMp3 = MP3Read(dir+'ouvert/Phrase1.mp3')\n",
    "                    threadMp3.start()\n",
    "                    time.sleep(1)\n",
    "                    cherry.robot.open_arms_behave.start()\n",
    "                    time.sleep(2.5)\n",
    "                    cherry.robot.point_arm_left_behave.start()\n",
    "                    time.sleep(1.5)\n",
    "                    cherry.robot.rest_open_behave.start()\n",
    "                \n",
    "                if tab[6] == 1 :#tab[2] < -0.9 :\n",
    "                    cherry.robot.open_move_behave.start()\n",
    "                    threadMp3 = MP3Read(dir+'ouvert/Phrase2.mp3')\n",
    "                    threadMp3.start()\n",
    "                    time.sleep(2.5)\n",
    "                    cherry.robot.question_behave.start()\n",
    "                    time.sleep(1)\n",
    "                    cherry.robot.rest_open_behave.start()\n",
    "                    \n",
    "                if tab[7] == 1 :\n",
    "                    threadMp3 = MP3Read(dir+'ouvert/Phrase3.mp3')\n",
    "                    threadMp3.start()\n",
    "                    cherry.robot.point_arm_left_behave.start()\n",
    "                    time.sleep(1.2)\n",
    "                    cherry.robot.rest_open_behave.start()\n",
    "                \n",
    "                if tab[8] == 1 :\n",
    "                    cherry.robot.swap_behave.start()\n",
    "                    time.sleep(0.7)\n",
    "                    threadMp3 = MP3Read(dir+'ouvert/Phrase4.mp3')\n",
    "                    threadMp3.start()\n",
    "                    time.sleep(1.3)\n",
    "                    cherry.robot.double_me_behave.start()\n",
    "                    time.sleep(1.5)\n",
    "                    cherry.robot.rest_open_behave.start()\n",
    "                \n",
    "                if tab[9] == 1 :\n",
    "                    cherry.robot.question_behave.start()\n",
    "                    time.sleep(0.2)\n",
    "                    threadMp3 = MP3Read(dir+'ouvert/Phrase5.mp3')\n",
    "                    threadMp3.start()\n",
    "                    time.sleep(1.4)\n",
    "                    cherry.robot.rest_open_behave.start()\n",
    "                    \n",
    "                if tab[10] == 1 and tab[2] < -0.9 :\n",
    "                    cherry.robot.disappointment_behave.start()\n",
    "                    time.sleep(0.2)\n",
    "                    threadMp3 = MP3Read(dir+'ouvert/Phrase7.mp3')\n",
    "                    threadMp3.start()\n",
    "                    time.sleep(1.2)\n",
    "                    cherry.robot.question_behave.start()\n",
    "                    time.sleep(1.2)\n",
    "                    cherry.robot.rest_open_behave.start()\n",
    "\n",
    "                elif tab[10] == 1 :\n",
    "                    threadMp3 = MP3Read(dir+'ouvert/Phrase6.mp3')\n",
    "                    threadMp3.start()\n",
    "                    time.sleep(0.5)\n",
    "\n",
    "                if tab[11] == 1 and tab[2] < -0.9 :\n",
    "                    threadMp3 = MP3Read(dir+'ouvert/Phrase9.mp3')\n",
    "                    threadMp3.start()\n",
    "                    cherry.robot.swap_behave.start()\n",
    "                    time.sleep(0.5)\n",
    "                elif tab[11] == 1 :\n",
    "                    threadMp3 = MP3Read(dir+'ouvert/Phrase8.mp3')\n",
    "                    threadMp3.start()\n",
    "                    time.sleep(1.1)\n",
    "                    cherry.robot.double_me_behave.start()\n",
    "                    time.sleep(1.7)\n",
    "                    cherry.robot.rest_open_behave.start()\n",
    "                \n",
    "                if tab[12] == 1 :\n",
    "                    threadMp3 = MP3Read(dir+'ouvert/Phrase10.mp3')\n",
    "                    threadMp3.start()\n",
    "                    cherry.robot.question_behave.start()\n",
    "                    time.sleep(1)\n",
    "                    cherry.robot.rest_open_behave.start()\n",
    "\n",
    "                if tab[13] == 1 :\n",
    "                    threadMp3 = MP3Read(dir+'oui.mp3')\n",
    "                    threadMp3.start()\n",
    "                    time.sleep(0.5)\n",
    "                \n",
    "                if tab[14] == 1 :\n",
    "                    threadMp3 = MP3Read(dir+'non.mp3')\n",
    "                    threadMp3.start()\n",
    "                    time.sleep(0.5)\n",
    "                    \n",
    "                if tab[1] < -0.9 :\n",
    "                    cherry.robot.double_me_behave.start()\n",
    "                    time.sleep(0.5)\n",
    "                    threadMp3 = MP3Read(dir+'ouvert/Phrase11.mp3')\n",
    "                    threadMp3.start()\n",
    "                    time.sleep(1)\n",
    "                    cherry.robot.question_behave.start()\n",
    "                    time.sleep(2.5)\n",
    "                    cherry.robot.swap_behave.start()\n",
    "                    time.sleep(4)\n",
    "                    cherry.robot.little_arms_up_behave.start()\n",
    "                    time.sleep(2.5)\n",
    "                    cherry.robot.question_behave.start()\n",
    "                    time.sleep(2)\n",
    "                    cherry.robot.rest_open_behave.start()\n",
    "                \n",
    "                    \n",
    "                if tab[0] < -0.9 :\n",
    "                    threadMp3 = MP3Read(dir+'ouvert/Phrase13.mp3')\n",
    "                    threadMp3.start()\n",
    "                    cherry.robot.question_behave.start()\n",
    "                    time.sleep(1)\n",
    "                    cherry.robot.rest_open_behave.start()\n",
    "                    \n",
    "                if tab[1] > 0.9 :\n",
    "                    threadMp3 = MP3Read(dir+'ouvert/Phrase12.mp3')\n",
    "                    threadMp3.start()\n",
    "                    time.sleep(1)\n",
    "                    cherry.robot.left_arms_behave.start()\n",
    "\n",
    "                    time.sleep(1.5)\n",
    "                    cherry.robot.right_arms_behave.start()\n",
    "\n",
    "                    time.sleep(1.5)\n",
    "                    cherry.robot.rest_open_behave.start()\n",
    "\n",
    "                    time.sleep(2.5)\n",
    "                    cherry.robot.open_move_behave.start()\n",
    "\n",
    "                    time.sleep(1.5)\n",
    "                    cherry.robot.rest_open_behave.start()\n",
    "\n",
    "                if tab[2] < -0.9 and tab[0] > 0.9 :\n",
    "                    cherry.robot.disappointment_behave.start()\n",
    "                    time.sleep(0.5)\n",
    "                    threadMp3 = MP3Read(dir+'ouvert/Phrase15.mp3')\n",
    "                    threadMp3.start()\n",
    "                    time.sleep(0.5)\n",
    "                    cherry.robot.rest_open_behave.start()\n",
    "                \n",
    "                elif tab[0] > 0.9 :\n",
    "                    cherry.robot.little_arms_up_behave.start()\n",
    "                    time.sleep(0.7)\n",
    "                    threadMp3 = MP3Read(dir+'ouvert/Phrase14.mp3')\n",
    "                    threadMp3.start()\n",
    "                    time.sleep(1)\n",
    "                    cherry.robot.rest_open_behave.start()\n",
    "                \n",
    "                if tab[3] <-0.9 :\n",
    "                    threadMp3 = MP3Read(dir+'agreable/Phrase13.mp3')\n",
    "                    threadMp3.start()\n",
    "\n",
    "                    time.sleep(3.5)\n",
    "                    cherry.robot.question_behave.start()\n",
    "                    time.sleep(2)\n",
    "                    cherry.robot.show_front_hunkers_behave.start()\n",
    "\n",
    "                    time.sleep(2.5)\n",
    "                    cherry.robot.show_right_rest_behave.start()\n",
    "\n",
    "                    time.sleep(2.2)\n",
    "                    cherry.robot.rest_position.start()\n",
    "                \n",
    "                if tab[2] > 0.9 :\n",
    "                    threadMp3 = MP3Read(dir+'neSaisPas.mp3')\n",
    "                    threadMp3.start()\n",
    "\n",
    "                    time.sleep(1)\n",
    "                    \n",
    "                time.sleep(0.02)\n",
    "                \n",
    "    def stop(self):\n",
    "        self.running = False"
   ]
  },
  {
   "cell_type": "markdown",
   "metadata": {},
   "source": [
    "## Lancement du controle gamepad "
   ]
  },
  {
   "cell_type": "code",
   "execution_count": null,
   "metadata": {
    "collapsed": false
   },
   "outputs": [],
   "source": [
    "pygame.init()\n",
    "j = pygame.joystick.Joystick(0)\n",
    "j.init()\n",
    "print 'Initialized Joystick : %s' % j.get_name()\n",
    "for m in cherry.robot.arms :\n",
    "    m.compliant = False\n",
    "for m in cherry.robot.motors:\n",
    "    m.moving_speed = 0\n",
    "\n",
    "thread = GamePadRead(\"Test\")\n",
    "thread.start()"
   ]
  },
  {
   "cell_type": "code",
   "execution_count": null,
   "metadata": {
    "collapsed": true
   },
   "outputs": [],
   "source": [
    "thread.stop()"
   ]
  },
  {
   "cell_type": "markdown",
   "metadata": {},
   "source": [
    "## Primitives"
   ]
  },
  {
   "cell_type": "code",
   "execution_count": null,
   "metadata": {
    "collapsed": true
   },
   "outputs": [],
   "source": [
    "threadMp3 = MP3Read('../utils/audio/ouvert/Phrase16.mp3')\n",
    "threadMp3.start()\n",
    "time.sleep(3)\n",
    "cherry.robot.swap_behave.start()\n",
    "time.sleep(1.5)\n",
    "cherry.robot.point_arm_left_behave.start()\n",
    "time.sleep(1)\n",
    "cherry.robot.rest_open_behave.start()\n",
    "time.sleep(1.5)\n",
    "cherry.robot.show_right_rest_behave.start()\n",
    "time.sleep(1.5)\n",
    "cherry.robot.rest_open_behave.start()"
   ]
  },
  {
   "cell_type": "code",
   "execution_count": null,
   "metadata": {
    "collapsed": true
   },
   "outputs": [],
   "source": [
    "cherry.robot.rest_open_behave.start()"
   ]
  },
  {
   "cell_type": "code",
   "execution_count": null,
   "metadata": {
    "collapsed": true
   },
   "outputs": [],
   "source": [
    "cherry.robot.question_behave.start()"
   ]
  },
  {
   "cell_type": "code",
   "execution_count": null,
   "metadata": {
    "collapsed": true
   },
   "outputs": [],
   "source": [
    "cherry.robot.swap_behave.start()"
   ]
  },
  {
   "cell_type": "code",
   "execution_count": null,
   "metadata": {
    "collapsed": true
   },
   "outputs": [],
   "source": [
    "cherry.robot.double_me_behave.start()"
   ]
  },
  {
   "cell_type": "code",
   "execution_count": null,
   "metadata": {
    "collapsed": true
   },
   "outputs": [],
   "source": [
    "cherry.robot.point_arm_left_behave.start()"
   ]
  },
  {
   "cell_type": "code",
   "execution_count": null,
   "metadata": {
    "collapsed": true
   },
   "outputs": [],
   "source": [
    "cherry.robot.open_move_behave.start()"
   ]
  },
  {
   "cell_type": "code",
   "execution_count": null,
   "metadata": {
    "collapsed": true
   },
   "outputs": [],
   "source": [
    "cherry.robot.little_arms_up_behave.start()"
   ]
  },
  {
   "cell_type": "code",
   "execution_count": null,
   "metadata": {
    "collapsed": true
   },
   "outputs": [],
   "source": [
    "cherry.robot.disappointment_behave.start()"
   ]
  },
  {
   "cell_type": "code",
   "execution_count": null,
   "metadata": {
    "collapsed": true
   },
   "outputs": [],
   "source": [
    "cherry.robot.left_arms_behave.start()"
   ]
  },
  {
   "cell_type": "code",
   "execution_count": null,
   "metadata": {
    "collapsed": true
   },
   "outputs": [],
   "source": [
    "cherry.robot.right_arms_behave.start()"
   ]
  },
  {
   "cell_type": "code",
   "execution_count": null,
   "metadata": {
    "collapsed": true
   },
   "outputs": [],
   "source": [
    "cherry.robot.open_arms_behave.start()"
   ]
  },
  {
   "cell_type": "code",
   "execution_count": null,
   "metadata": {
    "collapsed": true
   },
   "outputs": [],
   "source": [
    "cherry.robot.show_right_rest_behave.start()"
   ]
  }
 ],
 "metadata": {
  "kernelspec": {
   "display_name": "Python 2",
   "language": "python",
   "name": "python2"
  },
  "language_info": {
   "codemirror_mode": {
    "name": "ipython",
    "version": 2
   },
   "file_extension": ".py",
   "mimetype": "text/x-python",
   "name": "python",
   "nbconvert_exporter": "python",
   "pygments_lexer": "ipython2",
   "version": "2.7.9"
  }
 },
 "nbformat": 4,
 "nbformat_minor": 0
}
