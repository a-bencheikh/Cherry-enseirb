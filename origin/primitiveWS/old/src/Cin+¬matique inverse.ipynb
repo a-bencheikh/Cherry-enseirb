{
 "cells": [
  {
   "cell_type": "code",
   "execution_count": 2,
   "metadata": {
    "collapsed": false
   },
   "outputs": [
    {
     "ename": "IOError",
     "evalue": "Connection to the robot failed! No suitable port found for ids [33, 34, 35, 36, 37, 41, 42, 43, 44, 51, 52, 53, 54]. These ids are missing [33, 34, 35, 36, 37, 41, 42, 43, 44, 51, 52, 53, 54] !",
     "output_type": "error",
     "traceback": [
      "\u001b[0;31m---------------------------------------------------------------------------\u001b[0m",
      "\u001b[0;31mIOError\u001b[0m                                   Traceback (most recent call last)",
      "\u001b[0;32m<ipython-input-2-cab0d41fa2a8>\u001b[0m in \u001b[0;36m<module>\u001b[0;34m()\u001b[0m\n\u001b[1;32m      5\u001b[0m \u001b[0;32mfrom\u001b[0m \u001b[0mpypot\u001b[0m\u001b[0;34m.\u001b[0m\u001b[0mprimitive\u001b[0m\u001b[0;34m.\u001b[0m\u001b[0mmove\u001b[0m \u001b[0;32mimport\u001b[0m \u001b[0mMoveRecorder\u001b[0m\u001b[0;34m,\u001b[0m \u001b[0mMove\u001b[0m\u001b[0;34m,\u001b[0m \u001b[0mMovePlayer\u001b[0m\u001b[0;34m\u001b[0m\u001b[0m\n\u001b[1;32m      6\u001b[0m \u001b[0;34m\u001b[0m\u001b[0m\n\u001b[0;32m----> 7\u001b[0;31m \u001b[0mcherry\u001b[0m \u001b[0;34m=\u001b[0m \u001b[0mCherry\u001b[0m\u001b[0;34m(\u001b[0m\u001b[0;34m)\u001b[0m\u001b[0;34m\u001b[0m\u001b[0m\n\u001b[0m\u001b[1;32m      8\u001b[0m \u001b[0mcherry\u001b[0m\u001b[0;34m.\u001b[0m\u001b[0msetup\u001b[0m\u001b[0;34m(\u001b[0m\u001b[0;34m)\u001b[0m\u001b[0;34m\u001b[0m\u001b[0m\n\u001b[1;32m      9\u001b[0m \u001b[0;34m\u001b[0m\u001b[0m\n",
      "\u001b[0;32m/Library/Frameworks/Python.framework/Versions/2.7/lib/python2.7/site-packages/poppy_creature-1.8.0rc1-py2.7.egg/poppy/creatures/abstractcreature.pyc\u001b[0m in \u001b[0;36m__new__\u001b[0;34m(cls, base_path, config, simulator, scene, host, port, id, use_snap, snap_host, snap_port, snap_quiet, use_http, http_host, http_port, http_quiet, use_remote, remote_host, remote_port, sync)\u001b[0m\n\u001b[1;32m    100\u001b[0m                 \u001b[0mpoppy_creature\u001b[0m \u001b[0;34m=\u001b[0m \u001b[0mfrom_json\u001b[0m\u001b[0;34m(\u001b[0m\u001b[0mconfig\u001b[0m\u001b[0;34m,\u001b[0m \u001b[0msync\u001b[0m\u001b[0;34m)\u001b[0m\u001b[0;34m\u001b[0m\u001b[0m\n\u001b[1;32m    101\u001b[0m             \u001b[0;32mexcept\u001b[0m \u001b[0mIndexError\u001b[0m \u001b[0;32mas\u001b[0m \u001b[0me\u001b[0m\u001b[0;34m:\u001b[0m\u001b[0;34m\u001b[0m\u001b[0m\n\u001b[0;32m--> 102\u001b[0;31m                 \u001b[0;32mraise\u001b[0m \u001b[0mIOError\u001b[0m\u001b[0;34m(\u001b[0m\u001b[0;34m'Connection to the robot failed! {}'\u001b[0m\u001b[0;34m.\u001b[0m\u001b[0mformat\u001b[0m\u001b[0;34m(\u001b[0m\u001b[0me\u001b[0m\u001b[0;34m.\u001b[0m\u001b[0mmessage\u001b[0m\u001b[0;34m)\u001b[0m\u001b[0;34m)\u001b[0m\u001b[0;34m\u001b[0m\u001b[0m\n\u001b[0m\u001b[1;32m    103\u001b[0m             \u001b[0mpoppy_creature\u001b[0m\u001b[0;34m.\u001b[0m\u001b[0msimulated\u001b[0m \u001b[0;34m=\u001b[0m \u001b[0mFalse\u001b[0m\u001b[0;34m\u001b[0m\u001b[0m\n\u001b[1;32m    104\u001b[0m \u001b[0;34m\u001b[0m\u001b[0m\n",
      "\u001b[0;31mIOError\u001b[0m: Connection to the robot failed! No suitable port found for ids [33, 34, 35, 36, 37, 41, 42, 43, 44, 51, 52, 53, 54]. These ids are missing [33, 34, 35, 36, 37, 41, 42, 43, 44, 51, 52, 53, 54] !"
     ]
    }
   ],
   "source": [
    "import time\n",
    "from poppy.creatures import PoppyHumanoid\n",
    "from cherry import Cherry\n",
    "\n",
    "from pypot.primitive.move import MoveRecorder, Move, MovePlayer\n",
    "\n",
    "cherry = Cherry()\n",
    "cherry.setup()\n",
    "\n",
    "for m in cherry.robot.motors :\n",
    "    m.goal_position = 0.0\n",
    "    \n",
    "for m in cherry.robot.head :\n",
    "    m.compliant = False\n",
    "for m in cherry.robot.arms :\n",
    "    m.compliant = True\n",
    "\n",
    "cherry.robot.head_z.goal_position = 0.0\n",
    "cherry.robot.head_y.goal_position = 0.0"
   ]
  },
  {
   "cell_type": "code",
   "execution_count": 3,
   "metadata": {
    "collapsed": true
   },
   "outputs": [],
   "source": [
    "for m in cherry.robot.arms :\n",
    "    m.compliant = False\n",
    "\n",
    "for m in cherry.robot.arms :\n",
    "    m.goal_position = 0"
   ]
  },
  {
   "cell_type": "code",
   "execution_count": 4,
   "metadata": {
    "collapsed": false
   },
   "outputs": [],
   "source": [
    "import numpy as np\n",
    "def computeJacobPoppy(Pxi,Pyi,Pzi,q1,q2,q3,q4):\n",
    "\n",
    "    t2 = np.sin(q2);\n",
    "    t3 = np.cos(q2);\n",
    "    t4 = np.sin(q4);\n",
    "    t5 = np.cos(q4);\n",
    "    t6 = np.sin(q3);\n",
    "    t7 = np.cos(q3);\n",
    "    t8 = np.cos(q1);\n",
    "    t9 = np.sin(q1);\n",
    "    t10 = t7*t9;\n",
    "    t12 = t2*t6*t8;\n",
    "    t11 = t10-t12;\n",
    "    t13 = t6*t8;\n",
    "    t15 = t2*t7*t9;\n",
    "    t14 = t13-t15;\n",
    "    t16 = t7*t8;\n",
    "    t17 = t2*t6*t9;\n",
    "    t18 = t16+t17;\n",
    "    t19 = t5*t18;\n",
    "    t20 = t19-t3*t4*t9;\n",
    "    t21 = t4*t18;\n",
    "    t22 = t3*t5*t9;\n",
    "    t23 = t21+t22;\n",
    "    t24 = t3*2.0;\n",
    "    t25 = t3*t7*9.0;\n",
    "    t26 = t3*t6*9.6e1;\n",
    "    t27 = Pzi*t2*t5*1.0e2;\n",
    "    t28 = Pyi*t2*t4*1.0e2;\n",
    "    t29 = Pyi*t3*t5*t6*1.0e2;\n",
    "    t30 = t2*-1.84e3+t24+t25+t26+t27+t28+t29-t2*t4*2.6e3-Pxi*t3*t7*1.0e2-t3*t5*t6*2.6e3-Pzi*t3*t4*t6*1.0e2;\n",
    "    t31 = t6*t9;\n",
    "    t32 = t2*t7*t8;\n",
    "    t33 = t31+t32;\n",
    "    t34 = t4*t11;\n",
    "    t35 = t34-t3*t5*t8;\n",
    "    t36 = t5*t11;\n",
    "    t37 = t3*t4*t8;\n",
    "    t38 = t36+t37;\n",
    "    out1 = np.reshape((0.0,t8*(-7.0/1.0e2)+t9*(1.0/2.5e1)-Pxi*t33-Pyi*t38+Pzi*t35+t2*t8*(1.0/5.0e1)+t3*t8*(9.2e1/5.0)+t6*t9*(9.0/1.0e2)+t5*t11*2.6e1-t7*t9*(2.4e1/2.5e1)+t3*t4*t8*2.6e1+t2*t6*t8*(2.4e1/2.5e1)+t2*t7*t8*(9.0/1.0e2),t8*(-1.0/2.5e1)-t9*(7.0/1.0e2)+Pxi*t14+Pyi*t20-Pzi*t23+t2*t9*(1.0/5.0e1)+t3*t9*(9.2e1/5.0)-t6*t8*(9.0/1.0e2)+t7*t8*(2.4e1/2.5e1)-t5*t18*2.6e1+t3*t4*t9*2.6e1+t2*t6*t9*(2.4e1/2.5e1)+t2*t7*t9*(9.0/1.0e2),t2*(1.0/5.0e1)+t3*(9.2e1/5.0)-Pyi*(t3*t4-t2*t5*t6)-Pzi*(t3*t5+t2*t4*t6)+t3*t4*2.6e1+t2*t6*(2.4e1/2.5e1)+t2*t7*(9.0/1.0e2)-Pxi*t2*t7-t2*t5*t6*2.6e1,t9*t30*(1.0/1.0e2),t8*t30*(-1.0/1.0e2),t3*(t6*9.0-t7*9.6e1-Pxi*t6*1.0e2+t5*t7*2.6e3-Pyi*t5*t7*1.0e2+Pzi*t4*t7*1.0e2)*(1.0/1.0e2),Pxi*t18-t6*t8*(2.4e1/2.5e1)-t7*t8*(9.0/1.0e2)+t5*t14*2.6e1-Pyi*t5*t14+Pzi*t4*t14-t2*t6*t9*(9.0/1.0e2)+t2*t7*t9*(2.4e1/2.5e1),Pxi*t11-t6*t9*(2.4e1/2.5e1)-t7*t9*(9.0/1.0e2)+t5*t33*2.6e1-Pyi*t5*t33+Pzi*t4*t33+t2*t6*t8*(9.0/1.0e2)-t2*t7*t8*(2.4e1/2.5e1),-Pyi*(t2*t5-t3*t4*t6)+Pzi*(t2*t4+t3*t5*t6)+t2*t5*2.6e1-t3*t4*t6*2.6e1,-Pyi*t23-Pzi*t20+t4*t18*2.6e1+t3*t5*t9*2.6e1,-Pyi*t35-Pzi*t38+t4*t11*2.6e1-t3*t5*t8*2.6e1),(4, 3));\n",
    "    \n",
    "    return out1"
   ]
  },
  {
   "cell_type": "code",
   "execution_count": 5,
   "metadata": {
    "collapsed": false
   },
   "outputs": [],
   "source": [
    "import numpy as np\n",
    "def computeGeometricPoppy(q1,q2,q3,q4):\n",
    "\n",
    "    t2 = np.cos(q2);\n",
    "    t3 = np.cos(q4);\n",
    "    t4 = np.sin(q2);\n",
    "    t5 = np.sin(q3);\n",
    "    t6 = np.sin(q4);\n",
    "    t7 = np.cos(q3);\n",
    "    t8 = np.cos(q1);\n",
    "    t9 = np.sin(q1);\n",
    "    t10 = t7*t8;\n",
    "    t11 = t4*t5*t9;\n",
    "    t12 = t10+t11;\n",
    "    t13 = t7*t9;\n",
    "    t15 = t4*t5*t8;\n",
    "    t14 = t13-t15;\n",
    "    out1 = np.reshape((t2*t7,t5*t8-t4*t7*t9,t5*t9+t4*t7*t8,0.0,-t4*t6-t2*t3*t5,t3*t12-t2*t6*t9,t3*t14+t2*t6*t8,0.0,-t3*t4+t2*t5*t6,-t6*t12-t2*t3*t9,-t6*t14+t2*t3*t8,0.0,t2*(-1.0/5.0e1)+t4*(9.2e1/5.0)-t2*t5*(2.4e1/2.5e1)-t2*t7*(9.0/1.0e2)+t4*t6*2.6e1+t2*t3*t5*2.6e1+1.033e1,t8*(-1.0/2.5e1)-t9*(7.0/1.0e2)+t2*t9*(9.2e1/5.0)+t4*t9*(1.0/5.0e1)-t5*t8*(9.0/1.0e2)-t3*t12*2.6e1+t7*t8*(2.4e1/2.5e1)+t2*t6*t9*2.6e1+t4*t5*t9*(2.4e1/2.5e1)+t4*t7*t9*(9.0/1.0e2)-4.3e1/1.0e2,t8*(7.0/1.0e2)-t9*(1.0/2.5e1)-t2*t8*(9.2e1/5.0)-t4*t8*(1.0/5.0e1)-t5*t9*(9.0/1.0e2)+t7*t9*(2.4e1/2.5e1)-t3*t14*2.6e1-t2*t6*t8*2.6e1-t4*t5*t8*(2.4e1/2.5e1)-t4*t7*t8*(9.0/1.0e2)+3.23e2/2.5e1,1.0),(4, 4));\n",
    "    \n",
    "    return out1"
   ]
  },
  {
   "cell_type": "code",
   "execution_count": 6,
   "metadata": {
    "collapsed": false,
    "scrolled": true
   },
   "outputs": [],
   "source": [
    "import numpy as np\n",
    "\n",
    "def findMotorAngle(Cx,Cy,Cz,CQ1,CQ2,CQ3,CQ4,Gx,Gy,Gz) :\n",
    "\n",
    "    fQi = np.matrix([[Cx],[Cy],[Cz]])\n",
    "\n",
    "    Q= np.matrix([[CQ1],[CQ2],[CQ3],[CQ4]])\n",
    "    fQi_plus_1 = np.matrix([[Gx],[Gy],[Gz]])\n",
    "\n",
    "    itera = 0\n",
    "    while itera < 200 and np.linalg.norm(fQi_plus_1 - fQi) > 0.001 :\n",
    "\n",
    "        Jac = computeJacobPoppy(0,0,0,Q.item(0),Q.item(1),Q.item(2),Q.item(3))\n",
    "        JacTrans = Jac.T\n",
    "        Jinv = np.linalg.pinv(JacTrans)\n",
    "\n",
    "        diff_fQi = fQi_plus_1 - fQi\n",
    "        delta_qi = Jinv *0.6* diff_fQi\n",
    "        qi_plus_1 = Q + delta_qi\n",
    "\n",
    "        fqinew = computeGeometricPoppy(qi_plus_1.item(0),qi_plus_1.item(1),qi_plus_1.item(2),qi_plus_1.item(3))\n",
    "        fqinewTrans = fqinew.T\n",
    "        fQi = np.matrix([[fqinewTrans.item(3)], [fqinewTrans.item(7)],[fqinewTrans.item(11)]])\n",
    "        Q = qi_plus_1\n",
    "        itera = itera +1\n",
    "        \n",
    "    angleWrong = 12;\n",
    "    while angleWrong > 0 :\n",
    "        angleWrong = 0;\n",
    "        for i in range(0,4) :\n",
    "            if Q[i] > np.pi :\n",
    "                Q[i] = Q[i] - 2*np.pi;\n",
    "                angleWrong = angleWrong + 1;\n",
    "            elif Q[i] < - np.pi :\n",
    "                Q[i] = Q[i] + 2*np.pi;\n",
    "                angleWrong = angleWrong + 1;\n",
    "    #print itera\n",
    "    \n",
    "    return [Q.item(0),Q.item(1),Q.item(2),Q.item(3),fQi.item(0),fQi.item(1),fQi.item(2)]\n",
    "    \n",
    "    "
   ]
  },
  {
   "cell_type": "code",
   "execution_count": null,
   "metadata": {
    "collapsed": false
   },
   "outputs": [],
   "source": [
    "computeGeometricPoppy(0,0,0,0).T"
   ]
  },
  {
   "cell_type": "code",
   "execution_count": null,
   "metadata": {
    "collapsed": false
   },
   "outputs": [],
   "source": [
    "computeJacobPoppy(0,0,0,0,0,0,0).T"
   ]
  },
  {
   "cell_type": "code",
   "execution_count": null,
   "metadata": {
    "collapsed": false
   },
   "outputs": [],
   "source": [
    "findMotorAngle(10,26,-5,0,0,0,0,10,25.5,-5)"
   ]
  },
  {
   "cell_type": "code",
   "execution_count": null,
   "metadata": {
    "collapsed": false
   },
   "outputs": [],
   "source": [
    "computeGeometricPoppy(-4.09367151e-01,1.99157627e-17,7.93135759e-18,3.61680794e-01).T"
   ]
  },
  {
   "cell_type": "code",
   "execution_count": 7,
   "metadata": {
    "collapsed": false
   },
   "outputs": [],
   "source": [
    "#CHERRY OUVERT\n",
    "\n",
    "import pygame\n",
    "import time\n",
    "import random\n",
    "import sys\n",
    "from threading import Thread, RLock\n",
    "\n",
    "def get():\n",
    "    out = [0,0,0,0,0,0,0,0,0,0,0,0,0,0,0,0,0]\n",
    "    it = 0 #iterator\n",
    "    pygame.event.pump()\n",
    "    \n",
    "    #Read input from the two joysticks       \n",
    "    for i in range(0, j.get_numaxes()):\n",
    "        out[it] = j.get_axis(i)\n",
    "        it+=1\n",
    "\n",
    "    for i in range(0,j.get_numhats()):\n",
    "        out[it] = j.get_hat(i)\n",
    "        it+=1\n",
    "\n",
    "    #Read input from buttons\n",
    "    for i in range(0, j.get_numbuttons()):\n",
    "        out[it] = j.get_button(i)\n",
    "        it+=1\n",
    "    return out\n",
    "\n",
    "verrou = RLock()\n",
    "        \n",
    "class GamePadRead(Thread):\n",
    "\n",
    "    \"\"\"Thread chargé simplement d'afficher un mot dans la console.\"\"\"\n",
    "\n",
    "    def __init__(self, mot):\n",
    "        Thread.__init__(self)\n",
    "        self.mot = mot\n",
    "        self.running = False\n",
    "        self.zHead = cherry.robot.head_z.present_position\n",
    "        self.yHead = cherry.robot.head_y.present_position\n",
    "        self._x = 10.22\n",
    "        self._y = -25.51\n",
    "        self._z = -5.41\n",
    "        self._CQ1 = 0\n",
    "        self._CQ2 = 0\n",
    "        self._CQ3 = 0\n",
    "        self._CQ4 = 0\n",
    "        self._Gx = 10.22\n",
    "        self._Gy = -25.51\n",
    "        self._Gz = -5.41\n",
    "        \n",
    "\n",
    "    def run(self):\n",
    "        \"\"\"Code à exécuter pendant l'exécution du thread.\"\"\"\n",
    "        self.running = True\n",
    "        while self.running:\n",
    "            with verrou:\n",
    "                tab = get()\n",
    "                \n",
    "                #Mouvement de tête avec le Hat\n",
    "                temp = tab[4][0]*2\n",
    "                if(-90<self.zHead+temp <90):\n",
    "                    self.zHead += temp\n",
    "                \n",
    "                temp = tab[4][1]*(-2)\n",
    "                if(self.yHead+temp < 20):\n",
    "                    self.yHead += temp\n",
    "                \n",
    "                cherry.robot.head_z.goal_position = self.zHead\n",
    "                cherry.robot.head_y.goal_position = self.yHead\n",
    "                \n",
    "                \n",
    "                if(tab[0]<-0.1 or tab[0]>0.1):\n",
    "                    self._Gx = self._x+tab[0]*-1\n",
    "                \n",
    "                if(tab[1]<-0.1 or tab[1]>0.1):\n",
    "                    self._Gz = self._z+tab[1]*-1\n",
    "                    \n",
    "                if tab[9] == 1 :\n",
    "                    self._Gy = self._y+1\n",
    "                \n",
    "                if tab[10] == 1 :\n",
    "                    self._Gy = self._y-1\n",
    "                \n",
    "                [self._CQ1,self._CQ2,self._CQ3,self._CQ4,self._x,self._y,self._z] = findMotorAngle(self._x,self._y,self._z,self._CQ1,self._CQ2,self._CQ3,self._CQ4,self._Gx,self._Gy,self._Gz)\n",
    "\n",
    "                #print [self._CQ1*360/2*np.pi,self._CQ2*360/2*np.pi,self._CQ3*360/2*np.pi,self._CQ4*360/2*np.pi, self._x,self._y,self._z,self._Gx,self._Gy,self._Gz]\n",
    "\n",
    "                cherry.robot.l_shoulder_y.goal_position = self._CQ1*360/(2*np.pi)\n",
    "                cherry.robot.l_shoulder_x.goal_position = self._CQ2*360/(2*np.pi)\n",
    "                cherry.robot.l_arm_z.goal_position = self._CQ3*360/(2*np.pi)\n",
    "                cherry.robot.l_elbow_y.goal_position = self._CQ4*360/(2*np.pi)\n",
    "                \n",
    "                time.sleep(0.02)\n",
    "                \n",
    "    def stop(self):\n",
    "        self.running = False\n"
   ]
  },
  {
   "cell_type": "code",
   "execution_count": 8,
   "metadata": {
    "collapsed": false,
    "scrolled": true
   },
   "outputs": [
    {
     "name": "stdout",
     "output_type": "stream",
     "text": [
      "Initialized Joystick : Thrustmaster dual analog 3.2\n"
     ]
    }
   ],
   "source": [
    "pygame.init()\n",
    "j = pygame.joystick.Joystick(0)\n",
    "j.init()\n",
    "print 'Initialized Joystick : %s' % j.get_name()\n",
    "for m in cherry.robot.arms :\n",
    "    m.compliant = False\n",
    "for m in cherry.robot.motors:\n",
    "    m.moving_speed = 60\n",
    "\n",
    "thread = GamePadRead(\"Test\")\n",
    "thread.start()"
   ]
  },
  {
   "cell_type": "code",
   "execution_count": null,
   "metadata": {
    "collapsed": false
   },
   "outputs": [],
   "source": [
    "thread.stop()"
   ]
  }
 ],
 "metadata": {
  "kernelspec": {
   "display_name": "Python 2",
   "language": "python",
   "name": "python2"
  }
 },
 "nbformat": 4,
 "nbformat_minor": 0
}
