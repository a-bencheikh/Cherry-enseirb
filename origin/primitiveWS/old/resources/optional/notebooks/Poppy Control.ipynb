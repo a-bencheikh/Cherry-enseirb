{
 "cells": [
  {
   "cell_type": "code",
   "execution_count": 10,
   "metadata": {
    "collapsed": false
   },
   "outputs": [
    {
     "ename": "IOError",
     "evalue": "Connection to V-REP failed!",
     "output_type": "error",
     "traceback": [
      "\u001b[1;31m---------------------------------------------------------------------------\u001b[0m",
      "\u001b[1;31mIOError\u001b[0m                                   Traceback (most recent call last)",
      "\u001b[1;32m<ipython-input-10-01d50a648bf7>\u001b[0m in \u001b[0;36m<module>\u001b[1;34m()\u001b[0m\n\u001b[0;32m      1\u001b[0m \u001b[1;32mfrom\u001b[0m \u001b[0mpoppy\u001b[0m\u001b[1;33m.\u001b[0m\u001b[0mcreatures\u001b[0m \u001b[1;32mimport\u001b[0m \u001b[0mPoppyHumanoid\u001b[0m\u001b[1;33m\u001b[0m\u001b[0m\n\u001b[1;32m----> 2\u001b[1;33m \u001b[0mcreature\u001b[0m \u001b[1;33m=\u001b[0m \u001b[0mPoppyHumanoid\u001b[0m\u001b[1;33m(\u001b[0m\u001b[0msimulator\u001b[0m\u001b[1;33m=\u001b[0m\u001b[1;34m'vrep'\u001b[0m\u001b[1;33m)\u001b[0m\u001b[1;33m\u001b[0m\u001b[0m\n\u001b[0m",
      "\u001b[1;32mC:\\Anaconda2\\lib\\site-packages\\poppy\\creatures\\abstractcreature.pyc\u001b[0m in \u001b[0;36m__new__\u001b[1;34m(cls, base_path, config, simulator, scene, host, port, id, use_snap, snap_host, snap_port, snap_quiet, use_http, http_host, http_port, http_quiet, use_remote, remote_host, remote_port, sync)\u001b[0m\n\u001b[0;32m     87\u001b[0m                     \u001b[0mpoppy_creature\u001b[0m \u001b[1;33m=\u001b[0m \u001b[0mfrom_vrep\u001b[0m\u001b[1;33m(\u001b[0m\u001b[0mconfig\u001b[0m\u001b[1;33m,\u001b[0m \u001b[0mhost\u001b[0m\u001b[1;33m,\u001b[0m \u001b[0mport\u001b[0m\u001b[1;33m,\u001b[0m \u001b[0mscene\u001b[0m\u001b[1;33m)\u001b[0m\u001b[1;33m\u001b[0m\u001b[0m\n\u001b[0;32m     88\u001b[0m                 \u001b[1;32mexcept\u001b[0m \u001b[0mVrepConnectionError\u001b[0m\u001b[1;33m:\u001b[0m\u001b[1;33m\u001b[0m\u001b[0m\n\u001b[1;32m---> 89\u001b[1;33m                     \u001b[1;32mraise\u001b[0m \u001b[0mIOError\u001b[0m\u001b[1;33m(\u001b[0m\u001b[1;34m'Connection to V-REP failed!'\u001b[0m\u001b[1;33m)\u001b[0m\u001b[1;33m\u001b[0m\u001b[0m\n\u001b[0m\u001b[0;32m     90\u001b[0m \u001b[1;33m\u001b[0m\u001b[0m\n\u001b[0;32m     91\u001b[0m             \u001b[1;32melif\u001b[0m \u001b[0msimulator\u001b[0m \u001b[1;33m==\u001b[0m \u001b[1;34m'threejs'\u001b[0m\u001b[1;33m:\u001b[0m\u001b[1;33m\u001b[0m\u001b[0m\n",
      "\u001b[1;31mIOError\u001b[0m: Connection to V-REP failed!"
     ]
    }
   ],
   "source": [
    "from poppy.creatures import PoppyHumanoid\n",
    "creature = PoppyHumanoid(simulator='vrep')"
   ]
  },
  {
   "cell_type": "code",
   "execution_count": 35,
   "metadata": {
    "collapsed": true
   },
   "outputs": [],
   "source": [
    "creature.reset_simulation()"
   ]
  },
  {
   "cell_type": "code",
   "execution_count": 36,
   "metadata": {
    "collapsed": true
   },
   "outputs": [],
   "source": [
    "import numpy as np\n",
    "\n",
    "def robot3_inv(x,y,z) :\n",
    "    \n",
    "    l1 = 16; #taille de bras\n",
    "    l2 = 20; #taille de avant-bras\n",
    "\n",
    "    Cq2 = (x^2 + y^2 + z^2 - l1^2 - l2^2)/(2*l1*l2);\n",
    "    q2 = -np.arccos(Cq2);\n",
    "    q1 = np.arctan(z/np.sqrt(x^2 + y^2)) - np.arctan(-l2*np.sqrt(1-Cq2^2)/(l1+l2*Cq2) );\n",
    "    q0 = -np.arctan(x/y);\n",
    "\n",
    "\n",
    "    q2 = round((np.real(q2*180/np.pi))); #% l_elbox_y\n",
    "    q1 = round(np.real(q1*180/np.pi));  #% l_shoulder_x\n",
    "    q0 = round(np.real(q0*180/np.pi)); #% l_shoulder_y\n",
    "    \n",
    "    return [q0,q1,q2]\n"
   ]
  },
  {
   "cell_type": "code",
   "execution_count": 49,
   "metadata": {
    "collapsed": false
   },
   "outputs": [
    {
     "name": "stdout",
     "output_type": "stream",
     "text": [
      "-45.0 153.0 -90.0\n"
     ]
    }
   ],
   "source": [
    "[q0, q1, q2] = robot3_inv(50,50,50)\n",
    "print q0, q1, q2\n",
    "\n",
    "creature.l_shoulder_y.goal_position = q0\n",
    "creature.l_shoulder_y.goal_position = q1\n",
    "creature.l_elbow_y.goal_position = q2\n",
    "\n"
   ]
  }
 ],
 "metadata": {
  "kernelspec": {
   "display_name": "Python 2",
   "language": "python",
   "name": "python2"
  },
  "language_info": {
   "codemirror_mode": {
    "name": "ipython",
    "version": 2
   },
   "file_extension": ".py",
   "mimetype": "text/x-python",
   "name": "python",
   "nbconvert_exporter": "python",
   "pygments_lexer": "ipython2",
   "version": "2.7.11"
  }
 },
 "nbformat": 4,
 "nbformat_minor": 0
}
