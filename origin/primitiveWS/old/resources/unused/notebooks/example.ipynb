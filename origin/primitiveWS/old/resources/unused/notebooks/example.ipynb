{
 "metadata": {
  "name": "",
  "signature": "sha256:ea01b93707b4fc555b16a728880452c62c69ae97ebb5d647cfc65e753b93793e"
 },
 "nbformat": 3,
 "nbformat_minor": 0,
 "worksheets": [
  {
   "cells": [
    {
     "cell_type": "code",
     "collapsed": false,
     "input": [
      "from cherry import Cherry\n",
      "from poppy.creatures import PoppyHumanoid"
     ],
     "language": "python",
     "metadata": {},
     "outputs": [],
     "prompt_number": 1
    },
    {
     "cell_type": "code",
     "collapsed": false,
     "input": [
      "cherry = Cherry()"
     ],
     "language": "python",
     "metadata": {},
     "outputs": [],
     "prompt_number": 2
    },
    {
     "cell_type": "code",
     "collapsed": false,
     "input": [
      "cherry.setup()"
     ],
     "language": "python",
     "metadata": {},
     "outputs": [],
     "prompt_number": 3
    },
    {
     "cell_type": "code",
     "collapsed": false,
     "input": [
      "{(p.name, p) for p in cherry.robot.primitives}"
     ],
     "language": "python",
     "metadata": {},
     "outputs": [
      {
       "metadata": {},
       "output_type": "pyout",
       "prompt_number": 18,
       "text": [
        "{('arms_copy_motion',\n",
        "  <poppy_humanoid.primitives.interaction.PuppetMaster at 0x583a3f0>),\n",
        " ('arms_turn_compliant',\n",
        "  <poppy_humanoid.primitives.interaction.ArmsTurnCompliant at 0x5826df0>),\n",
        " ('dance_beat_motion',\n",
        "  <poppy_humanoid.primitives.dance.SimpleBodyBeatMotion at 0x57eb310>),\n",
        " ('head_idle', <behavior.idle.HeadIdleMotion at 0x583acb0>),\n",
        " ('head_idle_motion',\n",
        "  <poppy_humanoid.primitives.idle.HeadIdleMotion at 0x57ebbd0>),\n",
        " ('limit_torque', <poppy_humanoid.primitives.safe.LimitTorque at 0x57e0e90>),\n",
        " ('sit_position',\n",
        "  <poppy_humanoid.primitives.posture.SitPosition at 0x57e0a30>),\n",
        " ('stand_position',\n",
        "  <poppy_humanoid.primitives.posture.StandPosition at 0x57c8510>),\n",
        " ('upper_body_idle', <behavior.idle.UpperBodyIdleMotion at 0x583a850>),\n",
        " ('upper_body_idle_motion',\n",
        "  <poppy_humanoid.primitives.idle.UpperBodyIdleMotion at 0x57eb770>),\n",
        " ('yes_behave', <behavior.yes.YesBehave at 0x5875e90>)}"
       ]
      }
     ],
     "prompt_number": 18
    },
    {
     "cell_type": "code",
     "collapsed": false,
     "input": [
      "cherry.robot.head_idle.stop()"
     ],
     "language": "python",
     "metadata": {},
     "outputs": [],
     "prompt_number": 11
    },
    {
     "cell_type": "code",
     "collapsed": false,
     "input": [
      "cherry.robot.yes_behave.stop()"
     ],
     "language": "python",
     "metadata": {},
     "outputs": [],
     "prompt_number": 20
    },
    {
     "cell_type": "code",
     "collapsed": false,
     "input": [
      "cherry.robot.head_y.present_position"
     ],
     "language": "python",
     "metadata": {},
     "outputs": [
      {
       "metadata": {},
       "output_type": "pyout",
       "prompt_number": 35,
       "text": [
        "-6.4"
       ]
      }
     ],
     "prompt_number": 35
    },
    {
     "cell_type": "code",
     "collapsed": false,
     "input": [
      "cherry.robot.active_primitives"
     ],
     "language": "python",
     "metadata": {},
     "outputs": [
      {
       "metadata": {},
       "output_type": "pyout",
       "prompt_number": 12,
       "text": [
        "[]"
       ]
      }
     ],
     "prompt_number": 12
    },
    {
     "cell_type": "code",
     "collapsed": false,
     "input": [
      "cherry.robot.head_y.present_position"
     ],
     "language": "python",
     "metadata": {},
     "outputs": [
      {
       "metadata": {},
       "output_type": "pyout",
       "prompt_number": 13,
       "text": [
        "-9.9"
       ]
      }
     ],
     "prompt_number": 13
    },
    {
     "cell_type": "code",
     "collapsed": false,
     "input": [
      "cherry.robot.head_y.goto_position(0, 2)"
     ],
     "language": "python",
     "metadata": {},
     "outputs": [],
     "prompt_number": 17
    },
    {
     "cell_type": "code",
     "collapsed": false,
     "input": [
      "{(m.present_position, m.name) for m in cherry.robot.l_arm}"
     ],
     "language": "python",
     "metadata": {},
     "outputs": [
      {
       "metadata": {},
       "output_type": "pyout",
       "prompt_number": 5,
       "text": [
        "{(-0.0, u'l_arm_z'),\n",
        " (0.0, u'l_elbow_y'),\n",
        " (0.20000000000000284, u'l_shoulder_x'),\n",
        " (0.20000000000000284, u'l_shoulder_y')}"
       ]
      }
     ],
     "prompt_number": 5
    },
    {
     "cell_type": "code",
     "collapsed": false,
     "input": [
      "cherry.robot.l_arm_z.goal_position = 90"
     ],
     "language": "python",
     "metadata": {},
     "outputs": [],
     "prompt_number": 4
    },
    {
     "cell_type": "code",
     "collapsed": false,
     "input": [
      "cherry.robot.l_shoulder_x.goal_position = 90"
     ],
     "language": "python",
     "metadata": {},
     "outputs": [],
     "prompt_number": 6
    },
    {
     "cell_type": "code",
     "collapsed": false,
     "input": [],
     "language": "python",
     "metadata": {},
     "outputs": []
    }
   ],
   "metadata": {}
  }
 ]
}