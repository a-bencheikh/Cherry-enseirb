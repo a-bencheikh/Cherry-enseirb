{
 "metadata": {
  "name": "",
  "signature": "sha256:3253a0de0a0e0f15c2a46a651cc65c91a42822e4307d330c12a0743443eac063"
 },
 "nbformat": 3,
 "nbformat_minor": 0,
 "worksheets": [
  {
   "cells": [
    {
     "cell_type": "code",
     "collapsed": false,
     "input": [
      "import pypot\n",
      "import time\n",
      "from cherry import Cherry\n",
      "\n",
      "from pypot.primitive.move import MoveRecorder, Move, MovePlayer\n",
      "\n",
      "fileName = \"moveRecorded/arrivee.move\"\n",
      "fileName2 = \"moveRecorded/arrive_tete.move\"\n",
      "\n",
      "cherry = Cherry()\n",
      "cherry.setup()\n",
      "\n",
      "poppy = cherry.robot\n",
      "\n",
      "for m in poppy.l_arm:\n",
      "    m.compliant = True\n",
      "\n",
      "for m in poppy.r_arm:\n",
      "    m.compliant = True\n",
      "    \n",
      "for m in poppy.torso:\n",
      "    m.compliant = False\n",
      "    m.goal_position = 0\n",
      "    \n",
      "for m in poppy.head:\n",
      "    m.compliant = True\n",
      "    \n",
      "with open(fileName) as f:\n",
      "    m = Move.load(f)\n",
      "move_player = MovePlayer(poppy, m)\n",
      "\n",
      "with open(fileName2) as f:\n",
      "    m = Move.load(f)\n",
      "move_player2 = MovePlayer(poppy, m)\n",
      "\n",
      "\n",
      "poppy.compliant = False\n",
      "move_player.start()\n",
      "move_player2.start()\n",
      "cherry.robot.say_text.start('textToSpeech/arrivee.txt')"
     ],
     "language": "python",
     "metadata": {},
     "outputs": [
      {
       "output_type": "stream",
       "stream": "stdout",
       "text": [
        "init ok\n",
        "init ok\n"
       ]
      }
     ],
     "prompt_number": 1
    }
   ],
   "metadata": {}
  }
 ]
}