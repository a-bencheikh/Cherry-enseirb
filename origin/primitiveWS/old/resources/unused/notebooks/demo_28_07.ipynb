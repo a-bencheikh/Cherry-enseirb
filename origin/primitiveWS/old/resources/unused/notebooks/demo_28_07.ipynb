{
 "metadata": {
  "name": "",
  "signature": "sha256:e448b1948565613b94b6559b8517aca157906c850b4ee2679f5f2e530e1e62d0"
 },
 "nbformat": 3,
 "nbformat_minor": 0,
 "worksheets": [
  {
   "cells": [
    {
     "cell_type": "code",
     "collapsed": false,
     "input": [
      "import time\n",
      "from cherry import Cherry\n",
      "from poppy.creatures import PoppyHumanoid\n",
      "from pypot.primitive.move import MoveRecorder, Move, MovePlayer"
     ],
     "language": "python",
     "metadata": {},
     "outputs": []
    },
    {
     "cell_type": "code",
     "collapsed": false,
     "input": [
      "cherry = Cherry(simulator='vrep')\n",
      "cherry.setup()\n",
      "poppy = cherry.robot"
     ],
     "language": "python",
     "metadata": {},
     "outputs": []
    },
    {
     "cell_type": "heading",
     "level": 3,
     "metadata": {},
     "source": [
      "compliance"
     ]
    },
    {
     "cell_type": "code",
     "collapsed": false,
     "input": [
      "for m in poppy.arms + poppy.head:\n",
      "    m.compliant = True"
     ],
     "language": "python",
     "metadata": {},
     "outputs": []
    },
    {
     "cell_type": "heading",
     "level": 3,
     "metadata": {},
     "source": [
      "Exemple de discours"
     ]
    },
    {
     "cell_type": "code",
     "collapsed": false,
     "input": [
      "cherry.robot.disc_med.start()"
     ],
     "language": "python",
     "metadata": {},
     "outputs": []
    },
    {
     "cell_type": "heading",
     "level": 3,
     "metadata": {},
     "source": [
      "mouvements de base"
     ]
    },
    {
     "cell_type": "code",
     "collapsed": false,
     "input": [
      "cherry.robot.normal_behave.start()"
     ],
     "language": "python",
     "metadata": {},
     "outputs": []
    },
    {
     "cell_type": "code",
     "collapsed": false,
     "input": [
      "cherry.robot.wave_behave.stop()"
     ],
     "language": "python",
     "metadata": {},
     "outputs": []
    },
    {
     "cell_type": "heading",
     "level": 4,
     "metadata": {},
     "source": [
      "exemple : copy arm"
     ]
    },
    {
     "cell_type": "code",
     "collapsed": false,
     "input": [
      "#montre la capacit\u00e9 des moteurs \u00e0 \"savoir o\u00f9 ils sont\"\n",
      "poppy.copy_arm_behave.start()"
     ],
     "language": "python",
     "metadata": {},
     "outputs": []
    },
    {
     "cell_type": "code",
     "collapsed": false,
     "input": [
      "poppy.copy_arm_behave.stop()"
     ],
     "language": "python",
     "metadata": {},
     "outputs": []
    },
    {
     "cell_type": "heading",
     "level": 3,
     "metadata": {},
     "source": [
      "Vision"
     ]
    },
    {
     "cell_type": "code",
     "collapsed": false,
     "input": [
      "poppy.run_look.start()"
     ],
     "language": "python",
     "metadata": {},
     "outputs": []
    },
    {
     "cell_type": "code",
     "collapsed": false,
     "input": [
      "poppy.tracking_behave.start()"
     ],
     "language": "python",
     "metadata": {},
     "outputs": []
    },
    {
     "cell_type": "code",
     "collapsed": false,
     "input": [
      "poppy.tracking_behave.stop()"
     ],
     "language": "python",
     "metadata": {},
     "outputs": []
    },
    {
     "cell_type": "heading",
     "level": 3,
     "metadata": {},
     "source": [
      "voix"
     ]
    },
    {
     "cell_type": "code",
     "collapsed": false,
     "input": [
      "poppy.speak.start('Bonjour! Je suis Cherry, le robot compagnon des enfants hospitalis\u00e9s.')"
     ],
     "language": "python",
     "metadata": {},
     "outputs": []
    },
    {
     "cell_type": "code",
     "collapsed": false,
     "input": [
      "#changer filename\n",
      "filename = '../utils/text_to_say.txt'"
     ],
     "language": "python",
     "metadata": {},
     "outputs": []
    },
    {
     "cell_type": "code",
     "collapsed": false,
     "input": [
      "poppy.say_text.start(filename)"
     ],
     "language": "python",
     "metadata": {},
     "outputs": []
    },
    {
     "cell_type": "heading",
     "level": 4,
     "metadata": {},
     "source": [
      "voix+mouvement"
     ]
    },
    {
     "cell_type": "code",
     "collapsed": false,
     "input": [
      "cherry.robot.disc_med.start()"
     ],
     "language": "python",
     "metadata": {},
     "outputs": []
    },
    {
     "cell_type": "code",
     "collapsed": false,
     "input": [
      "cherry.robot.multip_rand.start()"
     ],
     "language": "python",
     "metadata": {},
     "outputs": []
    },
    {
     "cell_type": "code",
     "collapsed": false,
     "input": [
      "cherry.robot.vrai1.start()"
     ],
     "language": "python",
     "metadata": {},
     "outputs": []
    },
    {
     "cell_type": "code",
     "collapsed": false,
     "input": [
      "cherry.robot.faux.start()"
     ],
     "language": "python",
     "metadata": {},
     "outputs": []
    },
    {
     "cell_type": "heading",
     "level": 3,
     "metadata": {},
     "source": [
      "enregistrement de mvmt"
     ]
    },
    {
     "cell_type": "code",
     "collapsed": false,
     "input": [
      "filename_record = '../utils/move_recorded/move10'"
     ],
     "language": "python",
     "metadata": {},
     "outputs": [],
     "prompt_number": 1
    },
    {
     "cell_type": "code",
     "collapsed": false,
     "input": [
      "#n'enregistre que les mvmts des bras\n",
      "r_motors_group = poppy.arms"
     ],
     "language": "python",
     "metadata": {},
     "outputs": [
      {
       "ename": "NameError",
       "evalue": "name 'poppy' is not defined",
       "output_type": "pyerr",
       "traceback": [
        "\u001b[1;31m---------------------------------------------------------------------------\u001b[0m\n\u001b[1;31mNameError\u001b[0m                                 Traceback (most recent call last)",
        "\u001b[1;32m<ipython-input-2-44558a2c1d31>\u001b[0m in \u001b[0;36m<module>\u001b[1;34m()\u001b[0m\n\u001b[1;32m----> 1\u001b[1;33m \u001b[0mr_motors_group\u001b[0m \u001b[1;33m=\u001b[0m \u001b[0mpoppy\u001b[0m\u001b[1;33m.\u001b[0m\u001b[0marms\u001b[0m\u001b[1;33m\u001b[0m\u001b[0m\n\u001b[0m",
        "\u001b[1;31mNameError\u001b[0m: name 'poppy' is not defined"
       ]
      }
     ],
     "prompt_number": 2
    },
    {
     "cell_type": "code",
     "collapsed": false,
     "input": [
      "move_recorder = MoveRecorder(poppy, 50, r_motors_group)\n",
      "for m in poppy.l_arm:\n",
      "    m.compliant = True\n",
      "\n",
      "for m in poppy.r_arm:\n",
      "    m.compliant = True\n",
      "    \n",
      "for m in poppy.torso:\n",
      "    m.compliant = False\n",
      "    \n",
      "for m in poppy.head:\n",
      "    m.compliant = True"
     ],
     "language": "python",
     "metadata": {},
     "outputs": []
    },
    {
     "cell_type": "code",
     "collapsed": false,
     "input": [
      "move_recorder.start()"
     ],
     "language": "python",
     "metadata": {},
     "outputs": []
    },
    {
     "cell_type": "code",
     "collapsed": false,
     "input": [
      "move_recorder.stop()\n",
      "\n",
      "with open(filename_record, 'w') as f:\n",
      "    move_recorder.move.save(f)"
     ],
     "language": "python",
     "metadata": {},
     "outputs": []
    },
    {
     "cell_type": "heading",
     "level": 4,
     "metadata": {},
     "source": [
      "On le rejoue"
     ]
    },
    {
     "cell_type": "code",
     "collapsed": false,
     "input": [
      "with open(filename_record) as f:\n",
      "    m = Move.load(f)\n",
      "\n",
      "poppy.compliant = False\n",
      "\n",
      "move_player = MovePlayer(poppy, m)\n",
      "move_player.start()"
     ],
     "language": "python",
     "metadata": {},
     "outputs": []
    }
   ],
   "metadata": {}
  }
 ]
}