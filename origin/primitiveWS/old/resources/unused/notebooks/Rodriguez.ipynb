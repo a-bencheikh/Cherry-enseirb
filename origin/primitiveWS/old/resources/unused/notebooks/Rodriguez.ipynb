{
 "cells": [
  {
   "cell_type": "code",
   "execution_count": 1,
   "metadata": {
    "collapsed": false
   },
   "outputs": [],
   "source": [
    "import time\n",
    "from poppy.creatures import PoppyHumanoid\n",
    "from cherry import Cherry\n",
    "\n",
    "from pypot.primitive.move import MoveRecorder, Move, MovePlayer"
   ]
  },
  {
   "cell_type": "code",
   "execution_count": 2,
   "metadata": {
    "collapsed": false
   },
   "outputs": [
    {
     "name": "stdout",
     "output_type": "stream",
     "text": [
      "init camera\n",
      "init voice ok\n",
      "True\n",
      "init ok\n",
      "init ok\n"
     ]
    }
   ],
   "source": [
    "cherry = Cherry()\n",
    "cherry.setup()\n",
    "\n",
    "for m in cherry.robot.motors :\n",
    "    m.goal_position = 0.0\n",
    "    \n",
    "for m in cherry.robot.head :\n",
    "    m.compliant = False\n",
    "for m in cherry.robot.arms :\n",
    "    m.compliant = True\n",
    "\n",
    "cherry.robot.head_z.goal_position = 0.0\n",
    "cherry.robot.head_y.goal_position = 0.0\n",
    "\n"
   ]
  },
  {
   "cell_type": "code",
   "execution_count": null,
   "metadata": {
    "collapsed": false
   },
   "outputs": [],
   "source": [
    "fileName = \"../utils/moveRecord/test.move\""
   ]
  },
  {
   "cell_type": "code",
   "execution_count": null,
   "metadata": {
    "collapsed": false
   },
   "outputs": [],
   "source": [
    "for m in cherry.robot.motors :\n",
    "    m.compliant = False\n",
    "\n",
    "for m in cherry.robot.motors :\n",
    "    m.goal_position = 0.0"
   ]
  },
  {
   "cell_type": "code",
   "execution_count": null,
   "metadata": {
    "collapsed": false
   },
   "outputs": [],
   "source": [
    "for m in cherry.robot.motors:\n",
    "    m.moving_speed = 100\n",
    "\n",
    "for m in cherry.robot.arms :\n",
    "    m.compliant = False"
   ]
  },
  {
   "cell_type": "code",
   "execution_count": null,
   "metadata": {
    "collapsed": false
   },
   "outputs": [],
   "source": [
    "cherry.robot.rest_tilted_behave.start()"
   ]
  },
  {
   "cell_type": "code",
   "execution_count": 19,
   "metadata": {
    "collapsed": true
   },
   "outputs": [],
   "source": [
    "cherry.robot.rest_position.start()#1"
   ]
  },
  {
   "cell_type": "code",
   "execution_count": null,
   "metadata": {
    "collapsed": false
   },
   "outputs": [],
   "source": [
    "cherry.robot.me_behave.start()#2"
   ]
  },
  {
   "cell_type": "code",
   "execution_count": null,
   "metadata": {
    "collapsed": true
   },
   "outputs": [],
   "source": [
    "cherry.robot.rest_open_behave.start()"
   ]
  },
  {
   "cell_type": "code",
   "execution_count": null,
   "metadata": {
    "collapsed": true
   },
   "outputs": [],
   "source": [
    "cherry.robot.question_behave.start()#4"
   ]
  },
  {
   "cell_type": "code",
   "execution_count": null,
   "metadata": {
    "collapsed": true
   },
   "outputs": [],
   "source": [
    "cherry.robot.hug_behave.start()#6"
   ]
  },
  {
   "cell_type": "code",
   "execution_count": null,
   "metadata": {
    "collapsed": true
   },
   "outputs": [],
   "source": [
    "cherry.robot.left_arm_up_behave.start()"
   ]
  },
  {
   "cell_type": "code",
   "execution_count": null,
   "metadata": {
    "collapsed": true
   },
   "outputs": [],
   "source": [
    "cherry.robot.you_and_me_behave.start()"
   ]
  },
  {
   "cell_type": "code",
   "execution_count": null,
   "metadata": {
    "collapsed": true
   },
   "outputs": [],
   "source": [
    "cherry.robot.little_laugh_behave.start()"
   ]
  },
  {
   "cell_type": "code",
   "execution_count": null,
   "metadata": {
    "collapsed": true
   },
   "outputs": [],
   "source": [
    "cherry.robot.left_arms_behave.start()#stickgauche"
   ]
  },
  {
   "cell_type": "code",
   "execution_count": null,
   "metadata": {
    "collapsed": true
   },
   "outputs": [],
   "source": [
    "cherry.robot.right_arms_behave.start()#stickdroit"
   ]
  },
  {
   "cell_type": "code",
   "execution_count": null,
   "metadata": {
    "collapsed": true
   },
   "outputs": [],
   "source": [
    "cherry.robot.right_hand_up_behave.start()#stickhaut"
   ]
  },
  {
   "cell_type": "code",
   "execution_count": null,
   "metadata": {
    "collapsed": false
   },
   "outputs": [],
   "source": [
    "cherry.robot.show_front_hunkers_behave.start()#stickbas"
   ]
  },
  {
   "cell_type": "code",
   "execution_count": null,
   "metadata": {
    "collapsed": true
   },
   "outputs": [],
   "source": [
    "cherry.robot.show_right_rest_behave.start()#9"
   ]
  },
  {
   "cell_type": "code",
   "execution_count": null,
   "metadata": {
    "collapsed": true
   },
   "outputs": [],
   "source": [
    "cherry.robot.sigh_behave.start()"
   ]
  },
  {
   "cell_type": "code",
   "execution_count": null,
   "metadata": {
    "collapsed": true
   },
   "outputs": [],
   "source": [
    "cherry.robot.little_hug_behave.start()"
   ]
  },
  {
   "cell_type": "code",
   "execution_count": null,
   "metadata": {
    "collapsed": true
   },
   "outputs": [],
   "source": [
    "cherry.robot.open_arms_behave.start()"
   ]
  },
  {
   "cell_type": "code",
   "execution_count": null,
   "metadata": {
    "collapsed": true
   },
   "outputs": [],
   "source": [
    "cherry.robot.point_arm_left_behave.start()"
   ]
  },
  {
   "cell_type": "code",
   "execution_count": null,
   "metadata": {
    "collapsed": true
   },
   "outputs": [],
   "source": [
    "cherry.robot.open_move_behave.start()"
   ]
  },
  {
   "cell_type": "code",
   "execution_count": null,
   "metadata": {
    "collapsed": true
   },
   "outputs": [],
   "source": [
    "cherry.robot.double_me_behave.start()"
   ]
  },
  {
   "cell_type": "code",
   "execution_count": null,
   "metadata": {
    "collapsed": true
   },
   "outputs": [],
   "source": [
    "cherry.robot.swap_behave.start()"
   ]
  },
  {
   "cell_type": "code",
   "execution_count": null,
   "metadata": {
    "collapsed": true
   },
   "outputs": [],
   "source": [
    "cherry.robot.disappointment_behave.start()"
   ]
  },
  {
   "cell_type": "code",
   "execution_count": null,
   "metadata": {
    "collapsed": true
   },
   "outputs": [],
   "source": [
    "cherry.robot.little_arms_up_behave.start()"
   ]
  },
  {
   "cell_type": "code",
   "execution_count": null,
   "metadata": {
    "collapsed": true
   },
   "outputs": [],
   "source": [
    "for m in cherry.robot.motors :\n",
    "    m.moving_speed = 0"
   ]
  },
  {
   "cell_type": "code",
   "execution_count": null,
   "metadata": {
    "collapsed": false
   },
   "outputs": [],
   "source": [
    "cherry.robot.active_primitives\n",
    "cherry.robot.head_y.present_position\n",
    "\n",
    "#abs(-135 - cherry.robot.r_shoulder_y.present_position)"
   ]
  },
  {
   "cell_type": "code",
   "execution_count": null,
   "metadata": {
    "collapsed": true
   },
   "outputs": [],
   "source": [
    "move_recorder = MoveRecorder(cherry.robot, 50, cherry.robot.motors)\n",
    "\n",
    "for m in cherry.robot.arms:\n",
    "    m.compliant = True\n",
    "\n",
    "cherry.robot.abs_z.compliant = True    \n",
    "    \n",
    "move_recorder.start()"
   ]
  },
  {
   "cell_type": "code",
   "execution_count": null,
   "metadata": {
    "collapsed": false
   },
   "outputs": [],
   "source": [
    "move_recorder.stop()\n",
    "with open(fileName, 'w') as f:\n",
    "    move_recorder.move.save(f)"
   ]
  },
  {
   "cell_type": "code",
   "execution_count": null,
   "metadata": {
    "collapsed": false
   },
   "outputs": [],
   "source": [
    "import time\n",
    "\n",
    "with open(\"../utils/moveRecord/test.move\") as f:\n",
    "    m = Move.load(f)\n",
    "\n",
    "cherry.robot.compliant = False\n",
    "\n",
    "move_player = MovePlayer(cherry.robot, m)\n",
    "move_player.start()"
   ]
  },
  {
   "cell_type": "code",
   "execution_count": null,
   "metadata": {
    "collapsed": false
   },
   "outputs": [],
   "source": [
    "for m in cherry.robot.arms :\n",
    "    m.compliant = True"
   ]
  },
  {
   "cell_type": "code",
   "execution_count": null,
   "metadata": {
    "collapsed": true
   },
   "outputs": [],
   "source": [
    "cherry.robot.copy_arm_behave.start()"
   ]
  },
  {
   "cell_type": "code",
   "execution_count": null,
   "metadata": {
    "collapsed": true
   },
   "outputs": [],
   "source": [
    "cherry.robot.copy_arm_behave.stop()"
   ]
  },
  {
   "cell_type": "code",
   "execution_count": 22,
   "metadata": {
    "collapsed": false
   },
   "outputs": [],
   "source": [
    "for m in cherry.robot.motors:\n",
    "    m.moving_speed = 0\n",
    "\n",
    "for m in cherry.robot.arms :\n",
    "    m.compliant = False\n",
    "    \n",
    "cherry.robot.r_shoulder_y.goto_position(0, 1.5, wait=False)\n",
    "cherry.robot.r_shoulder_x.goto_position(-70, 1.5, wait=False)\n",
    "cherry.robot.r_arm_z.goto_position(-60, 1.5, wait=False)\n",
    "cherry.robot.r_elbow_y.goto_position(5, 1.5, wait=False)\n",
    "\n",
    "cherry.robot.l_shoulder_y.goto_position(0, 1.5, wait=False)\n",
    "cherry.robot.l_shoulder_x.goto_position(10, 1.5, wait=False)\n",
    "cherry.robot.l_arm_z.goto_position(-20, 1.5, wait=False)\n",
    "cherry.robot.l_elbow_y.goto_position(5, 1.5, wait=True)\n",
    "\n",
    "\n",
    "cherry.robot.r_shoulder_y.goto_position(0, 1.5, wait=False)\n",
    "cherry.robot.r_shoulder_x.goto_position(-70, 1.5, wait=False)\n",
    "cherry.robot.r_arm_z.goto_position(-60, 1.5, wait=False)\n",
    "cherry.robot.r_elbow_y.goto_position(-40, 1.5, wait=False)\n",
    "\n",
    "cherry.robot.l_shoulder_y.goto_position(0, 1.5, wait=False)\n",
    "cherry.robot.l_shoulder_x.goto_position(10, 1.5, wait=False)\n",
    "cherry.robot.l_arm_z.goto_position(-20, 1.5, wait=False)\n",
    "cherry.robot.l_elbow_y.goto_position(5, 1.5, wait=True)\n",
    "\n",
    "\n",
    "cherry.robot.r_shoulder_y.goto_position(0, 1.5, wait=False)\n",
    "cherry.robot.r_shoulder_x.goto_position(-70, 1.5, wait=False)\n",
    "cherry.robot.r_arm_z.goto_position(-60, 1.5, wait=False)\n",
    "cherry.robot.r_elbow_y.goto_position(5, 1.5, wait=False)\n",
    "\n",
    "cherry.robot.l_shoulder_y.goto_position(0, 1.5, wait=False)\n",
    "cherry.robot.l_shoulder_x.goto_position(10, 1.5, wait=False)\n",
    "cherry.robot.l_arm_z.goto_position(-20, 1.5, wait=False)\n",
    "cherry.robot.l_elbow_y.goto_position(5, 1.5, wait=True)\n",
    "\n",
    "\n",
    "cherry.robot.r_shoulder_y.goto_position(0, 1.5, wait=False)\n",
    "cherry.robot.r_shoulder_x.goto_position(-70, 1.5, wait=False)\n",
    "cherry.robot.r_arm_z.goto_position(-60, 1.5, wait=False)\n",
    "cherry.robot.r_elbow_y.goto_position(-40, 1.5, wait=False)\n",
    "\n",
    "cherry.robot.l_shoulder_y.goto_position(0, 1.5, wait=False)\n",
    "cherry.robot.l_shoulder_x.goto_position(10, 1.5, wait=False)\n",
    "cherry.robot.l_arm_z.goto_position(-20, 1.5, wait=False)\n",
    "cherry.robot.l_elbow_y.goto_position(5, 1.5, wait=True)\n",
    "\n",
    "\n",
    "cherry.robot.r_shoulder_y.goto_position(0, 1.5, wait=False)\n",
    "cherry.robot.r_shoulder_x.goto_position(-70, 1.5, wait=False)\n",
    "cherry.robot.r_arm_z.goto_position(-60, 1.5, wait=False)\n",
    "cherry.robot.r_elbow_y.goto_position(5, 1.5, wait=False)\n",
    "\n",
    "cherry.robot.l_shoulder_y.goto_position(0, 1.5, wait=False)\n",
    "cherry.robot.l_shoulder_x.goto_position(10, 1.5, wait=False)\n",
    "cherry.robot.l_arm_z.goto_position(-20, 1.5, wait=False)\n",
    "cherry.robot.l_elbow_y.goto_position(5, 1.5, wait=True)\n",
    "\n",
    "\n",
    "cherry.robot.r_shoulder_y.goto_position(0, 1.5, wait=False)\n",
    "cherry.robot.r_shoulder_x.goto_position(-10, 1.5, wait=False)\n",
    "cherry.robot.r_arm_z.goto_position(20, 1.5, wait=False)\n",
    "cherry.robot.r_elbow_y.goto_position(5, 1.5, wait=False)\n",
    "\n",
    "cherry.robot.l_shoulder_y.goto_position(0, 1.5, wait=False)\n",
    "cherry.robot.l_shoulder_x.goto_position(10, 1.5, wait=False)\n",
    "cherry.robot.l_arm_z.goto_position(-20, 1.5, wait=False)\n",
    "cherry.robot.l_elbow_y.goto_position(5, 1.5, wait=False)\n"
   ]
  },
  {
   "cell_type": "code",
   "execution_count": null,
   "metadata": {
    "collapsed": false,
    "scrolled": true
   },
   "outputs": [],
   "source": [
    "import time\n",
    "for m in cherry.robot.motors:\n",
    "    m.moving_speed = 50\n",
    "\n",
    "\n",
    "with open(\"../utils/moveRecord/step1.move\") as f:\n",
    "    m = Move.load(f)\n",
    "cherry.robot.compliant = False\n",
    "move_player = MovePlayer(cherry.robot, m)\n",
    "move_player.start()\n",
    "\n",
    "time.sleep(4)\n",
    "cherry.robot.say_sentence_local.start(\"Rodri gue aise!\")\n",
    "\n",
    "with open(\"../utils/moveRecord/step2.move\") as f:\n",
    "    m = Move.load(f)\n",
    "move_player = MovePlayer(cherry.robot, m)\n",
    "move_player.start()\n",
    "\n",
    "#time.sleep(1)\n",
    "\n",
    "with open(\"../utils/moveRecord/step3.move\") as f:\n",
    "    m = Move.load(f)\n",
    "move_player = MovePlayer(cherry.robot, m)\n",
    "move_player.start()\n",
    "\n",
    "time.sleep(2.5)\n",
    "cherry.robot.say_sentence_local.start(\"Père!\")\n",
    "\n",
    "\n",
    "with open(\"../utils/moveRecord/step4.move\") as f:\n",
    "    m = Move.load(f)\n",
    "move_player = MovePlayer(cherry.robot, m)\n",
    "move_player.start()\n",
    "\n",
    "time.sleep(2.5)\n",
    "cherry.robot.say_sentence_local.start(\"Et pisse!\")\n",
    "\n",
    "with open(\"../utils/moveRecord/step5.move\") as f:\n",
    "    m = Move.load(f)\n",
    "move_player = MovePlayer(cherry.robot, m)\n",
    "move_player.start()\n",
    "\n",
    "with open(\"../utils/moveRecord/step6.move\") as f:\n",
    "    m = Move.load(f)\n",
    "move_player = MovePlayer(cherry.robot, m)\n",
    "move_player.start()\n",
    "\n",
    "time.sleep(1)\n",
    "cherry.robot.say_sentence_local.start(\"Nous sommes techniciens du cinéma\")\n",
    "\n",
    "with open(\"../utils/moveRecord/step7.move\") as f:\n",
    "    m = Move.load(f)\n",
    "move_player = MovePlayer(cherry.robot, m)\n",
    "move_player.start()\n",
    "\n",
    "time.sleep(2)\n",
    "cherry.robot.say_sentence_local.start(\"Depuis plus. de 150 ans !\")\n",
    "\n",
    "with open(\"../utils/moveRecord/step8.move\") as f:\n",
    "    m = Move.load(f)\n",
    "move_player = MovePlayer(cherry.robot, m)\n",
    "move_player.start()\n",
    "\n",
    "\n",
    "cherry.robot.say_sentence_local.start(\"Vous désirez réalisé un film de type anglossaxon.\") \n",
    "time.sleep(2)\n",
    "\n",
    "with open(\"../utils/moveRecord/step9.move\") as f:\n",
    "    m = Move.load(f)\n",
    "move_player = MovePlayer(cherry.robot, m)\n",
    "move_player.start()\n",
    "\n",
    "time.sleep(2)\n",
    "cherry.robot.say_sentence_local.start(\"Soit. De type cowboy.\") \n",
    "with open(\"../utils/moveRecord/step10.move\") as f:\n",
    "    m = Move.load(f)\n",
    "move_player = MovePlayer(cherry.robot, m)\n",
    "move_player.start()\n",
    "\n",
    "time.sleep(1)\n",
    "cherry.robot.say_sentence_local.start(\"Soit. De type mission impossible.\") \n",
    "\n",
    "time.sleep(2)\n",
    "with open(\"../utils/moveRecord/step11.move\") as f:\n",
    "    m = Move.load(f)\n",
    "move_player = MovePlayer(cherry.robot, m)\n",
    "move_player.start()\n",
    "\n",
    "cherry.robot.say_sentence_local.start(\"Soit. De type Nintendo.\")\n",
    "\n",
    "time.sleep(2)\n",
    "with open(\"../utils/moveRecord/step12.move\") as f:\n",
    "    m = Move.load(f)\n",
    "move_player = MovePlayer(cherry.robot, m)\n",
    "move_player.start()\n",
    "\n",
    "time.sleep(2)\n",
    "cherry.robot.say_sentence_local.start(\"ite ize possibeule. Bicause.\") \n",
    "\n",
    "time.sleep(2)\n",
    "with open(\"../utils/moveRecord/step13.move\") as f:\n",
    "    m = Move.load(f)\n",
    "move_player = MovePlayer(cherry.robot, m)\n",
    "move_player.start()\n",
    "\n",
    "time.sleep(3)\n",
    "cherry.robot.say_sentence_local.start(\"Rodri gue aise!\") \n",
    "\n"
   ]
  },
  {
   "cell_type": "code",
   "execution_count": null,
   "metadata": {
    "collapsed": true
   },
   "outputs": [],
   "source": [
    "#CHERRY EXTRAVERTI\n",
    "\n",
    "import pygame\n",
    "import time\n",
    "import random\n",
    "import sys\n",
    "from threading import Thread, RLock\n",
    "\n",
    "def get():\n",
    "    out = [0,0,0,0,0,0,0,0,0,0,0,0,0,0,0,0,0]\n",
    "    it = 0 #iterator\n",
    "    pygame.event.pump()\n",
    "    \n",
    "    #Read input from the two joysticks       \n",
    "    for i in range(0, j.get_numaxes()):\n",
    "        out[it] = j.get_axis(i)\n",
    "        it+=1\n",
    "\n",
    "    for i in range(0,j.get_numhats()):\n",
    "        out[it] = j.get_hat(i)\n",
    "        it+=1\n",
    "\n",
    "    #Read input from buttons\n",
    "    for i in range(0, j.get_numbuttons()):\n",
    "        out[it] = j.get_button(i)\n",
    "        it+=1\n",
    "    return out\n",
    "\n",
    "verrou = RLock()\n",
    "        \n",
    "class GamePadRead(Thread):\n",
    "\n",
    "    \"\"\"Thread chargé simplement d'afficher un mot dans la console.\"\"\"\n",
    "\n",
    "    def __init__(self, mot):\n",
    "        Thread.__init__(self)\n",
    "        self.mot = mot\n",
    "        self.running = False\n",
    "        self.zHead = cherry.robot.head_z.present_position\n",
    "        self.yHead = cherry.robot.head_y.present_position\n",
    "\n",
    "    def run(self):\n",
    "        \"\"\"Code à exécuter pendant l'exécution du thread.\"\"\"\n",
    "        self.running = True\n",
    "        while self.running:\n",
    "            with verrou:\n",
    "                tab = get()\n",
    "                \n",
    "                #Mouvement de tête avec le Hat\n",
    "                temp = tab[4][0]*2\n",
    "                if(-90<self.zHead+temp <90):\n",
    "                    self.zHead += tab[4][0]*2\n",
    "                \n",
    "                temp = tab[4][1]*(-2)\n",
    "                if(self.yHead+temp < 20):\n",
    "                    self.yHead += temp\n",
    "                \n",
    "                cherry.robot.head_z.goal_position = self.zHead\n",
    "                cherry.robot.head_y.goal_position = self.yHead\n",
    "                \n",
    "                \n",
    "                #Mouvement\n",
    "                if tab[5] == 1 :\n",
    "                    cherry.robot.rest_position.start()\n",
    "                \n",
    "                if tab[6] == 1 :\n",
    "                    cherry.robot.me_behave.start()\n",
    "                    \n",
    "                if tab[7] == 1 :\n",
    "                    cherry.robot.me_arm_behave.start()\n",
    "                    \n",
    "                if tab[8] == 1 :\n",
    "                    cherry.robot.question_behave.start()\n",
    "                \n",
    "                if tab[9] == 1 :\n",
    "                    cherry.robot.extra_arms_up.start()\n",
    "                    \n",
    "                if tab[10] == 1 :\n",
    "                    cherry.robot.hug_behave.start()\n",
    "                \n",
    "                if tab[11] == 1 :\n",
    "                    cherry.robot.hunkers_behave.start()\n",
    "                \n",
    "                if tab[12] == 1 :\n",
    "                    cherry.robot.laugh_behave.start()\n",
    "                \n",
    "                if tab[13] == 1 :\n",
    "                    cherry.robot.show_right_rest_behave.start()\n",
    "                    \n",
    "                if tab[0] < -0.9 :\n",
    "                    cherry.robot.left_arms_behave.start()\n",
    "                    \n",
    "                if tab[0] > 0.9 :\n",
    "                    cherry.robot.right_arms_behave.start()\n",
    "                    \n",
    "                if tab[1] < -0.9 :\n",
    "                    cherry.robot.right_hand_up_behave.start()\n",
    "                    \n",
    "                if tab[1] > 0.9 :\n",
    "                    cherry.robot.show_front_hunkers_behave.start()\n",
    "                \n",
    "                time.sleep(0.02)\n",
    "                \n",
    "    def stop(self):\n",
    "        self.running = False"
   ]
  },
  {
   "cell_type": "code",
   "execution_count": null,
   "metadata": {
    "collapsed": true
   },
   "outputs": [],
   "source": [
    "#CHERRY AGREABLE\n",
    "\n",
    "import pygame\n",
    "import time\n",
    "import random\n",
    "import sys\n",
    "from threading import Thread, RLock\n",
    "\n",
    "def get():\n",
    "    out = [0,0,0,0,0,0,0,0,0,0,0,0,0,0,0,0,0]\n",
    "    it = 0 #iterator\n",
    "    pygame.event.pump()\n",
    "    \n",
    "    #Read input from the two joysticks       \n",
    "    for i in range(0, j.get_numaxes()):\n",
    "        out[it] = j.get_axis(i)\n",
    "        it+=1\n",
    "\n",
    "    for i in range(0,j.get_numhats()):\n",
    "        out[it] = j.get_hat(i)\n",
    "        it+=1\n",
    "\n",
    "    #Read input from buttons\n",
    "    for i in range(0, j.get_numbuttons()):\n",
    "        out[it] = j.get_button(i)\n",
    "        it+=1\n",
    "    return out\n",
    "\n",
    "verrou = RLock()\n",
    "        \n",
    "class GamePadRead(Thread):\n",
    "\n",
    "    \"\"\"Thread chargé simplement d'afficher un mot dans la console.\"\"\"\n",
    "\n",
    "    def __init__(self, mot):\n",
    "        Thread.__init__(self)\n",
    "        self.mot = mot\n",
    "        self.running = False\n",
    "        self.zHead = cherry.robot.head_z.present_position\n",
    "        self.yHead = cherry.robot.head_y.present_position\n",
    "\n",
    "    def run(self):\n",
    "        \"\"\"Code à exécuter pendant l'exécution du thread.\"\"\"\n",
    "        self.running = True\n",
    "        runPrimitive = False\n",
    "        while self.running:\n",
    "            with verrou:\n",
    "                tab = get()\n",
    "                \n",
    "                #Mouvement de tête avec le Hat\n",
    "                temp = tab[4][0]*2\n",
    "                if(-90<self.zHead+temp <90):\n",
    "                    self.zHead += tab[4][0]*2\n",
    "                \n",
    "                temp = tab[4][1]*(-2)\n",
    "                if(self.yHead+temp < 20):\n",
    "                    self.yHead += temp\n",
    "                \n",
    "                cherry.robot.head_z.goal_position = self.zHead\n",
    "                cherry.robot.head_y.goal_position = self.yHead\n",
    "                \n",
    "                \n",
    "                #Mouvement\n",
    "                if tab[5] == 1 :\n",
    "                    cherry.robot.rest_position.start()\n",
    "                    runPrimitive = True\n",
    "                \n",
    "                if tab[6] == 1 :\n",
    "                    cherry.robot.rest_tilted_behave.start()\n",
    "                    runPrimitive = True\n",
    "                    \n",
    "                if tab[7] == 1 :\n",
    "                    cherry.robot.question_behave.start()\n",
    "                    runPrimitive = True\n",
    "                    \n",
    "                if tab[8] == 1 :\n",
    "                    cherry.robot.left_arm_up_behave.start()\n",
    "                    runPrimitive = True\n",
    "                \n",
    "                if tab[9] == 1 :\n",
    "                    cherry.robot.me_behave.start()\n",
    "                    runPrimitive = True\n",
    "                    \n",
    "                if tab[10] == 1 :\n",
    "                    cherry.robot.you_and_me_behave.start()\n",
    "                    runPrimitive = True\n",
    "                \n",
    "                if tab[11] == 1 :\n",
    "                    cherry.robot.little_laugh_behave.start()\n",
    "                    runPrimitive = True\n",
    "                \n",
    "                if tab[12] == 1 :\n",
    "                    cherry.robot.sigh_behave.start()\n",
    "                    runPrimitive = True\n",
    "                \n",
    "                if tab[13] == 1 :\n",
    "                    cherry.robot.show_right_rest_behave.start()\n",
    "                    runPrimitive = True\n",
    "                    \n",
    "                if tab[0] < -0.9 :\n",
    "                    cherry.robot.left_arms_behave.start()\n",
    "                    runPrimitive = True\n",
    "                    \n",
    "                if tab[0] > 0.9 :\n",
    "                    cherry.robot.right_arms_behave.start()\n",
    "                    runPrimitive = True\n",
    "                    \n",
    "                if tab[1] < -0.9 :\n",
    "                    cherry.robot.little_hug_behave.start()\n",
    "                    runPrimitive = True\n",
    "                    \n",
    "                if tab[1] > 0.9 :\n",
    "                    cherry.robot.show_front_hunkers_behave.start()\n",
    "                    runPrimitive = True\n",
    "                \n",
    "                if runPrimitive :\n",
    "                    time.sleep(0.2)\n",
    "                    runPrimitive = False\n",
    "                \n",
    "                time.sleep(0.02)\n",
    "                \n",
    "    def stop(self):\n",
    "        self.running = False"
   ]
  },
  {
   "cell_type": "code",
   "execution_count": null,
   "metadata": {
    "collapsed": true
   },
   "outputs": [],
   "source": [
    "#CHERRY OUVERT\n",
    "\n",
    "import pygame\n",
    "import time\n",
    "import random\n",
    "import sys\n",
    "from threading import Thread, RLock\n",
    "\n",
    "def get():\n",
    "    out = [0,0,0,0,0,0,0,0,0,0,0,0,0,0,0,0,0]\n",
    "    it = 0 #iterator\n",
    "    pygame.event.pump()\n",
    "    \n",
    "    #Read input from the two joysticks       \n",
    "    for i in range(0, j.get_numaxes()):\n",
    "        out[it] = j.get_axis(i)\n",
    "        it+=1\n",
    "\n",
    "    for i in range(0,j.get_numhats()):\n",
    "        out[it] = j.get_hat(i)\n",
    "        it+=1\n",
    "\n",
    "    #Read input from buttons\n",
    "    for i in range(0, j.get_numbuttons()):\n",
    "        out[it] = j.get_button(i)\n",
    "        it+=1\n",
    "    return out\n",
    "\n",
    "verrou = RLock()\n",
    "        \n",
    "class GamePadRead(Thread):\n",
    "\n",
    "    \"\"\"Thread chargé simplement d'afficher un mot dans la console.\"\"\"\n",
    "\n",
    "    def __init__(self, mot):\n",
    "        Thread.__init__(self)\n",
    "        self.mot = mot\n",
    "        self.running = False\n",
    "        self.zHead = cherry.robot.head_z.present_position\n",
    "        self.yHead = cherry.robot.head_y.present_position\n",
    "\n",
    "    def run(self):\n",
    "        \"\"\"Code à exécuter pendant l'exécution du thread.\"\"\"\n",
    "        self.running = True\n",
    "        runPrimitive = False\n",
    "        while self.running:\n",
    "            with verrou:\n",
    "                tab = get()\n",
    "                \n",
    "                #Mouvement de tête avec le Hat\n",
    "                temp = tab[4][0]*2\n",
    "                if(-90<self.zHead+temp <90):\n",
    "                    self.zHead += tab[4][0]*2\n",
    "                \n",
    "                temp = tab[4][1]*(-2)\n",
    "                if(self.yHead+temp < 20):\n",
    "                    self.yHead += temp\n",
    "                \n",
    "                cherry.robot.head_z.goal_position = self.zHead\n",
    "                cherry.robot.head_y.goal_position = self.yHead\n",
    "                \n",
    "                \n",
    "                #Mouvement\n",
    "                if tab[5] == 1 :\n",
    "                    cherry.robot.rest_open_behave.start()\n",
    "                    runPrimitive = True\n",
    "                \n",
    "                if tab[6] == 1 :\n",
    "                    cherry.robot.question_behave.start()\n",
    "                    runPrimitive = True\n",
    "                    \n",
    "                if tab[7] == 1 :\n",
    "                    cherry.robot.swap_behave.start()\n",
    "                    runPrimitive = True\n",
    "                    \n",
    "                if tab[8] == 1 :\n",
    "                    cherry.robot.double_me_behave.start()\n",
    "                    runPrimitive = True\n",
    "                \n",
    "                if tab[9] == 1 :\n",
    "                    cherry.robot.point_arm_left_behave.start()\n",
    "                    runPrimitive = True\n",
    "                    \n",
    "                if tab[10] == 1 :\n",
    "                    cherry.robot.open_move_behave.start()\n",
    "                    runPrimitive = True\n",
    "                \n",
    "                if tab[11] == 1 :\n",
    "                    cherry.robot.little_arms_up_behave.start()\n",
    "                    runPrimitive = True\n",
    "                \n",
    "                if tab[12] == 1 :\n",
    "                    cherry.robot.disappointment_behave.start()\n",
    "                    runPrimitive = True\n",
    "                \n",
    "                #if tab[13] == 1 :\n",
    "                    #cherry.robot.show_right_rest_behave.start()\n",
    "                    #runPrimitive = True\n",
    "                    \n",
    "                if tab[0] < -0.9 :\n",
    "                    cherry.robot.left_arms_behave.start()\n",
    "                    runPrimitive = True\n",
    "                    \n",
    "                if tab[0] > 0.9 :\n",
    "                    cherry.robot.right_arms_behave.start()\n",
    "                    runPrimitive = True\n",
    "                    \n",
    "                if tab[1] < -0.9 :\n",
    "                    cherry.robot.open_arms_behave.start()\n",
    "                    runPrimitive = True\n",
    "                    \n",
    "                if tab[1] > 0.9 :\n",
    "                    cherry.robot.show_right_rest_behave.start()\n",
    "                    runPrimitive = True\n",
    "                \n",
    "                if runPrimitive :\n",
    "                    time.sleep(0.2)\n",
    "                    runPrimitive = False\n",
    "                \n",
    "                time.sleep(0.02)\n",
    "                \n",
    "    def stop(self):\n",
    "        self.running = False"
   ]
  },
  {
   "cell_type": "code",
   "execution_count": 1,
   "metadata": {
    "collapsed": false
   },
   "outputs": [
    {
     "ename": "NameError",
     "evalue": "name 'pygame' is not defined",
     "output_type": "error",
     "traceback": [
      "\u001b[1;31m---------------------------------------------------------------------------\u001b[0m",
      "\u001b[1;31mNameError\u001b[0m                                 Traceback (most recent call last)",
      "\u001b[1;32m<ipython-input-1-added130443f>\u001b[0m in \u001b[0;36m<module>\u001b[1;34m()\u001b[0m\n\u001b[1;32m----> 1\u001b[1;33m \u001b[0mpygame\u001b[0m\u001b[1;33m.\u001b[0m\u001b[0minit\u001b[0m\u001b[1;33m(\u001b[0m\u001b[1;33m)\u001b[0m\u001b[1;33m\u001b[0m\u001b[0m\n\u001b[0m\u001b[0;32m      2\u001b[0m \u001b[0mj\u001b[0m \u001b[1;33m=\u001b[0m \u001b[0mpygame\u001b[0m\u001b[1;33m.\u001b[0m\u001b[0mjoystick\u001b[0m\u001b[1;33m.\u001b[0m\u001b[0mJoystick\u001b[0m\u001b[1;33m(\u001b[0m\u001b[1;36m0\u001b[0m\u001b[1;33m)\u001b[0m\u001b[1;33m\u001b[0m\u001b[0m\n\u001b[0;32m      3\u001b[0m \u001b[0mj\u001b[0m\u001b[1;33m.\u001b[0m\u001b[0minit\u001b[0m\u001b[1;33m(\u001b[0m\u001b[1;33m)\u001b[0m\u001b[1;33m\u001b[0m\u001b[0m\n\u001b[0;32m      4\u001b[0m \u001b[1;32mprint\u001b[0m \u001b[1;34m'Initialized Joystick : %s'\u001b[0m \u001b[1;33m%\u001b[0m \u001b[0mj\u001b[0m\u001b[1;33m.\u001b[0m\u001b[0mget_name\u001b[0m\u001b[1;33m(\u001b[0m\u001b[1;33m)\u001b[0m\u001b[1;33m\u001b[0m\u001b[0m\n\u001b[0;32m      5\u001b[0m \u001b[1;32mfor\u001b[0m \u001b[0mm\u001b[0m \u001b[1;32min\u001b[0m \u001b[0mcherry\u001b[0m\u001b[1;33m.\u001b[0m\u001b[0mrobot\u001b[0m\u001b[1;33m.\u001b[0m\u001b[0marms\u001b[0m \u001b[1;33m:\u001b[0m\u001b[1;33m\u001b[0m\u001b[0m\n",
      "\u001b[1;31mNameError\u001b[0m: name 'pygame' is not defined"
     ]
    }
   ],
   "source": [
    "pygame.init()\n",
    "j = pygame.joystick.Joystick(0)\n",
    "j.init()\n",
    "print 'Initialized Joystick : %s' % j.get_name()\n",
    "for m in cherry.robot.arms :\n",
    "    m.compliant = False\n",
    "for m in cherry.robot.motors:\n",
    "    m.moving_speed = 0\n",
    "\n",
    "thread = GamePadRead(\"Test\")\n",
    "thread.start()"
   ]
  },
  {
   "cell_type": "code",
   "execution_count": null,
   "metadata": {
    "collapsed": false
   },
   "outputs": [],
   "source": [
    "thread.stop()"
   ]
  },
  {
   "cell_type": "code",
   "execution_count": null,
   "metadata": {
    "collapsed": true
   },
   "outputs": [],
   "source": [
    "import time\n",
    "import sys\n",
    "from threading import Thread, RLock\n",
    "import mp3play\n",
    "        \n",
    "class MP3Read(Thread):\n",
    "\n",
    "    \"\"\"Thread chargé simplement d'afficher un mot dans la console.\"\"\"\n",
    "\n",
    "    def __init__(self, fname):\n",
    "        Thread.__init__(self)\n",
    "        self.filename = fname\n",
    "\n",
    "    def run(self):\n",
    "        mp3 = mp3play.load(self.filename)\n",
    "        mp3.play()\n",
    "        time.sleep(min(30, mp3.seconds()))\n",
    "        mp3.stop()\n"
   ]
  },
  {
   "cell_type": "code",
   "execution_count": null,
   "metadata": {
    "collapsed": false
   },
   "outputs": [],
   "source": [
    "cherry.robot.extra_arms_up.start()\n",
    "time.sleep(0.5)\n",
    "    \n",
    "threadMp3 = MP3Read('Phrase1.mp3')\n",
    "threadMp3.start()\n",
    "\n",
    "time.sleep(1)\n",
    "cherry.robot.me_behave.start()\n",
    "time.sleep(1.2)\n",
    "cherry.robot.question_behave.start()\n",
    "time.sleep(1.3)\n",
    "cherry.robot.rest_position.start()"
   ]
  },
  {
   "cell_type": "code",
   "execution_count": null,
   "metadata": {
    "collapsed": true
   },
   "outputs": [],
   "source": [
    "cherry.robot.rest_position.start()#1"
   ]
  }
 ],
 "metadata": {
  "kernelspec": {
   "display_name": "Python 2",
   "language": "python",
   "name": "python2"
  },
  "language_info": {
   "codemirror_mode": {
    "name": "ipython",
    "version": 2
   },
   "file_extension": ".py",
   "mimetype": "text/x-python",
   "name": "python",
   "nbconvert_exporter": "python",
   "pygments_lexer": "ipython2",
   "version": "2.7.10"
  }
 },
 "nbformat": 4,
 "nbformat_minor": 0
}
