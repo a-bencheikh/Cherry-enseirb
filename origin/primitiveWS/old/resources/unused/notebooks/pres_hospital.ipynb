{
 "metadata": {
  "name": "",
  "signature": "sha256:a2989c75c0371039f6b4f0d348ca183bd31910905eb56333b5a9e4975817456c"
 },
 "nbformat": 3,
 "nbformat_minor": 0,
 "worksheets": [
  {
   "cells": [
    {
     "cell_type": "code",
     "collapsed": false,
     "input": [
      "import pypot\n",
      "from cherry import Cherry"
     ],
     "language": "python",
     "metadata": {},
     "outputs": [],
     "prompt_number": 1
    },
    {
     "cell_type": "code",
     "collapsed": false,
     "input": [
      "cherry = Cherry()\n",
      "cherry.setup()"
     ],
     "language": "python",
     "metadata": {},
     "outputs": [
      {
       "output_type": "stream",
       "stream": "stdout",
       "text": [
        "init ok\n",
        "init ok\n"
       ]
      }
     ],
     "prompt_number": 2
    },
    {
     "cell_type": "code",
     "collapsed": false,
     "input": [
      "for m in cherry.robot.torso + cherry.robot.head:\n",
      "    m.compliant = False\n",
      "    m.goal_position = 0\n",
      "\n",
      "for m in cherry.robot.arms:\n",
      "    m.compliant = True"
     ],
     "language": "python",
     "metadata": {},
     "outputs": [],
     "prompt_number": 35
    },
    {
     "cell_type": "code",
     "collapsed": false,
     "input": [
      "cherry.robot.compliant = False\n",
      "\n",
      "\n",
      "for m in cherry.robot.head:\n",
      "    m.moving_speed = 15\n",
      "cherry.robot.head_z.goal_position = -60\n",
      "cherry.robot.head_y.goal_position = -10\n",
      "\n",
      "cherry.robot.wave_behave.start()"
     ],
     "language": "python",
     "metadata": {},
     "outputs": [],
     "prompt_number": 29
    },
    {
     "cell_type": "code",
     "collapsed": false,
     "input": [
      "cherry.robot.wave_behave.stop()\n",
      "for m in cherry.robot.head:\n",
      "    m.moving_speed = 40\n",
      "    m.goal_position = 0\n",
      "    \n",
      "cherry.robot.show_right_behave.start()"
     ],
     "language": "python",
     "metadata": {},
     "outputs": [],
     "prompt_number": 30
    },
    {
     "cell_type": "code",
     "collapsed": false,
     "input": [
      "cherry.robot.normal_behave.start()"
     ],
     "language": "python",
     "metadata": {},
     "outputs": [],
     "prompt_number": 31
    },
    {
     "cell_type": "code",
     "collapsed": false,
     "input": [
      "cherry.robot.take_left_ear_behave.start()"
     ],
     "language": "python",
     "metadata": {},
     "outputs": [],
     "prompt_number": 32
    },
    {
     "cell_type": "code",
     "collapsed": false,
     "input": [
      "cherry.robot.take_right_ear_behave.start()"
     ],
     "language": "python",
     "metadata": {},
     "outputs": [],
     "prompt_number": 33
    },
    {
     "cell_type": "code",
     "collapsed": false,
     "input": [
      "cherry.robot.normal_behave.start()"
     ],
     "language": "python",
     "metadata": {},
     "outputs": [],
     "prompt_number": 34
    }
   ],
   "metadata": {}
  }
 ]
}