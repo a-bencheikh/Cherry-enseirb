{
 "cells": [
  {
   "cell_type": "code",
   "execution_count": null,
   "metadata": {
    "collapsed": false
   },
   "outputs": [],
   "source": [
    "import time\n",
    "from poppy.creatures import PoppyHumanoid\n",
    "from cherry import Cherry\n",
    "\n",
    "from pypot.primitive.move import MoveRecorder, Move, MovePlayer"
   ]
  },
  {
   "cell_type": "code",
   "execution_count": null,
   "metadata": {
    "collapsed": false
   },
   "outputs": [],
   "source": [
    "cherry = Cherry()\n",
    "cherry.setup()\n",
    "\n",
    "for m in cherry.robot.motors :\n",
    "    m.goal_position = 0.0\n",
    "    \n",
    "for m in cherry.robot.head :\n",
    "    m.compliant = False\n",
    "for m in cherry.robot.arms :\n",
    "    m.compliant = True\n",
    "\n",
    "cherry.robot.head_z.goal_position = 0.0\n",
    "cherry.robot.head_y.goal_position = 0.0\n",
    "\n"
   ]
  },
  {
   "cell_type": "code",
   "execution_count": null,
   "metadata": {
    "collapsed": false
   },
   "outputs": [],
   "source": [
    "fileName = \"../utils/moveRecord/test.move\""
   ]
  },
  {
   "cell_type": "code",
   "execution_count": null,
   "metadata": {
    "collapsed": false
   },
   "outputs": [],
   "source": [
    "for m in cherry.robot.motors :\n",
    "    m.compliant = False\n",
    "\n",
    "for m in cherry.robot.motors :\n",
    "    m.goal_position = 0.0"
   ]
  },
  {
   "cell_type": "code",
   "execution_count": null,
   "metadata": {
    "collapsed": false
   },
   "outputs": [],
   "source": [
    "for m in cherry.robot.motors:\n",
    "    m.moving_speed = 100\n",
    "\n",
    "for m in cherry.robot.arms :\n",
    "    m.compliant = False"
   ]
  },
  {
   "cell_type": "code",
   "execution_count": null,
   "metadata": {
    "collapsed": false
   },
   "outputs": [],
   "source": [
    "cherry.robot.rest_tilted_behave.start()"
   ]
  },
  {
   "cell_type": "code",
   "execution_count": null,
   "metadata": {
    "collapsed": true
   },
   "outputs": [],
   "source": [
    "cherry.robot.rest_position.start()#1"
   ]
  },
  {
   "cell_type": "code",
   "execution_count": null,
   "metadata": {
    "collapsed": false
   },
   "outputs": [],
   "source": [
    "cherry.robot.me_behave.start()#2"
   ]
  },
  {
   "cell_type": "code",
   "execution_count": null,
   "metadata": {
    "collapsed": true
   },
   "outputs": [],
   "source": [
    "cherry.robot.question_behave.start()#4"
   ]
  },
  {
   "cell_type": "code",
   "execution_count": null,
   "metadata": {
    "collapsed": true
   },
   "outputs": [],
   "source": [
    "cherry.robot.hug_behave.start()#6"
   ]
  },
  {
   "cell_type": "code",
   "execution_count": null,
   "metadata": {
    "collapsed": true
   },
   "outputs": [],
   "source": [
    "cherry.robot.left_arm_up_behave.start()"
   ]
  },
  {
   "cell_type": "code",
   "execution_count": null,
   "metadata": {
    "collapsed": true
   },
   "outputs": [],
   "source": [
    "cherry.robot.you_and_me_behave.start()"
   ]
  },
  {
   "cell_type": "code",
   "execution_count": null,
   "metadata": {
    "collapsed": true
   },
   "outputs": [],
   "source": [
    "cherry.robot.little_laugh_behave.start()"
   ]
  },
  {
   "cell_type": "code",
   "execution_count": null,
   "metadata": {
    "collapsed": true
   },
   "outputs": [],
   "source": [
    "cherry.robot.left_arms_behave.start()#stickgauche"
   ]
  },
  {
   "cell_type": "code",
   "execution_count": null,
   "metadata": {
    "collapsed": true
   },
   "outputs": [],
   "source": [
    "cherry.robot.right_arms_behave.start()#stickdroit"
   ]
  },
  {
   "cell_type": "code",
   "execution_count": null,
   "metadata": {
    "collapsed": true
   },
   "outputs": [],
   "source": [
    "cherry.robot.right_hand_up_behave.start()#stickhaut"
   ]
  },
  {
   "cell_type": "code",
   "execution_count": null,
   "metadata": {
    "collapsed": false
   },
   "outputs": [],
   "source": [
    "cherry.robot.show_front_hunkers_behave.start()#stickbas"
   ]
  },
  {
   "cell_type": "code",
   "execution_count": null,
   "metadata": {
    "collapsed": true
   },
   "outputs": [],
   "source": [
    "cherry.robot.show_right_rest_behave.start()#9"
   ]
  },
  {
   "cell_type": "code",
   "execution_count": null,
   "metadata": {
    "collapsed": true
   },
   "outputs": [],
   "source": [
    "cherry.robot.sigh_behave.start()"
   ]
  },
  {
   "cell_type": "code",
   "execution_count": null,
   "metadata": {
    "collapsed": true
   },
   "outputs": [],
   "source": [
    "cherry.robot.little_hug_behave.start()"
   ]
  },
  {
   "cell_type": "code",
   "execution_count": null,
   "metadata": {
    "collapsed": true
   },
   "outputs": [],
   "source": [
    "for m in cherry.robot.motors :\n",
    "    m.moving_speed = 0"
   ]
  },
  {
   "cell_type": "code",
   "execution_count": null,
   "metadata": {
    "collapsed": false
   },
   "outputs": [],
   "source": [
    "cherry.robot.active_primitives\n",
    "cherry.robot.head_y.present_position\n",
    "\n",
    "#abs(-135 - cherry.robot.r_shoulder_y.present_position)"
   ]
  },
  {
   "cell_type": "code",
   "execution_count": null,
   "metadata": {
    "collapsed": true
   },
   "outputs": [],
   "source": [
    "move_recorder = MoveRecorder(cherry.robot, 50, cherry.robot.motors)\n",
    "\n",
    "for m in cherry.robot.arms:\n",
    "    m.compliant = True\n",
    "\n",
    "cherry.robot.abs_z.compliant = True    \n",
    "    \n",
    "move_recorder.start()"
   ]
  },
  {
   "cell_type": "code",
   "execution_count": null,
   "metadata": {
    "collapsed": false
   },
   "outputs": [],
   "source": [
    "move_recorder.stop()\n",
    "with open(fileName, 'w') as f:\n",
    "    move_recorder.move.save(f)"
   ]
  },
  {
   "cell_type": "code",
   "execution_count": null,
   "metadata": {
    "collapsed": false
   },
   "outputs": [],
   "source": [
    "import time\n",
    "\n",
    "with open(\"../utils/moveRecord/test.move\") as f:\n",
    "    m = Move.load(f)\n",
    "\n",
    "cherry.robot.compliant = False\n",
    "\n",
    "move_player = MovePlayer(cherry.robot, m)\n",
    "move_player.start()"
   ]
  },
  {
   "cell_type": "code",
   "execution_count": null,
   "metadata": {
    "collapsed": false
   },
   "outputs": [],
   "source": [
    "for m in cherry.robot.arms :\n",
    "    m.compliant = True"
   ]
  },
  {
   "cell_type": "code",
   "execution_count": null,
   "metadata": {
    "collapsed": false
   },
   "outputs": [],
   "source": [
    "for m in cherry.robot.motors:\n",
    "    m.moving_speed = 0\n",
    "\n",
    "for m in cherry.robot.arms :\n",
    "    m.compliant = False\n",
    "\n",
    "cherry.robot.r_shoulder_y.goto_position(-45, 1.5, wait=False)\n",
    "cherry.robot.r_shoulder_x.goto_position(-30, 1.5, wait=False)\n",
    "cherry.robot.r_arm_z.goto_position(-10, 1.5, wait=False)\n",
    "cherry.robot.r_elbow_y.goto_position(30, 1.5, wait=False)\n",
    "\n",
    "cherry.robot.l_shoulder_y.goto_position(-45, 1.5, wait=False)\n",
    "cherry.robot.l_shoulder_x.goto_position(30, 1.5, wait=False)\n",
    "cherry.robot.l_arm_z.goto_position(10, 1.5, wait=False)\n",
    "cherry.robot.l_elbow_y.goto_position(30, 1.5, wait=False)\n"
   ]
  },
  {
   "cell_type": "code",
   "execution_count": null,
   "metadata": {
    "collapsed": false,
    "scrolled": true
   },
   "outputs": [],
   "source": [
    "import time\n",
    "for m in cherry.robot.motors:\n",
    "    m.moving_speed = 50\n",
    "\n",
    "\n",
    "with open(\"../utils/moveRecord/step1.move\") as f:\n",
    "    m = Move.load(f)\n",
    "cherry.robot.compliant = False\n",
    "move_player = MovePlayer(cherry.robot, m)\n",
    "move_player.start()\n",
    "\n",
    "time.sleep(4)\n",
    "cherry.robot.say_sentence_local.start(\"Rodri gue aise!\")\n",
    "\n",
    "with open(\"../utils/moveRecord/step2.move\") as f:\n",
    "    m = Move.load(f)\n",
    "move_player = MovePlayer(cherry.robot, m)\n",
    "move_player.start()\n",
    "\n",
    "#time.sleep(1)\n",
    "\n",
    "with open(\"../utils/moveRecord/step3.move\") as f:\n",
    "    m = Move.load(f)\n",
    "move_player = MovePlayer(cherry.robot, m)\n",
    "move_player.start()\n",
    "\n",
    "time.sleep(2.5)\n",
    "cherry.robot.say_sentence_local.start(\"Père!\")\n",
    "\n",
    "\n",
    "with open(\"../utils/moveRecord/step4.move\") as f:\n",
    "    m = Move.load(f)\n",
    "move_player = MovePlayer(cherry.robot, m)\n",
    "move_player.start()\n",
    "\n",
    "time.sleep(2.5)\n",
    "cherry.robot.say_sentence_local.start(\"Et pisse!\")\n",
    "\n",
    "with open(\"../utils/moveRecord/step5.move\") as f:\n",
    "    m = Move.load(f)\n",
    "move_player = MovePlayer(cherry.robot, m)\n",
    "move_player.start()\n",
    "\n",
    "with open(\"../utils/moveRecord/step6.move\") as f:\n",
    "    m = Move.load(f)\n",
    "move_player = MovePlayer(cherry.robot, m)\n",
    "move_player.start()\n",
    "\n",
    "time.sleep(1)\n",
    "cherry.robot.say_sentence_local.start(\"Nous sommes techniciens du cinéma\")\n",
    "\n",
    "with open(\"../utils/moveRecord/step7.move\") as f:\n",
    "    m = Move.load(f)\n",
    "move_player = MovePlayer(cherry.robot, m)\n",
    "move_player.start()\n",
    "\n",
    "time.sleep(2)\n",
    "cherry.robot.say_sentence_local.start(\"Depuis plus. de 150 ans !\")\n",
    "\n",
    "with open(\"../utils/moveRecord/step8.move\") as f:\n",
    "    m = Move.load(f)\n",
    "move_player = MovePlayer(cherry.robot, m)\n",
    "move_player.start()\n",
    "\n",
    "\n",
    "cherry.robot.say_sentence_local.start(\"Vous désirez réalisé un film de type anglossaxon.\") \n",
    "time.sleep(2)\n",
    "\n",
    "with open(\"../utils/moveRecord/step9.move\") as f:\n",
    "    m = Move.load(f)\n",
    "move_player = MovePlayer(cherry.robot, m)\n",
    "move_player.start()\n",
    "\n",
    "time.sleep(2)\n",
    "cherry.robot.say_sentence_local.start(\"Soit. De type cowboy.\") \n",
    "with open(\"../utils/moveRecord/step10.move\") as f:\n",
    "    m = Move.load(f)\n",
    "move_player = MovePlayer(cherry.robot, m)\n",
    "move_player.start()\n",
    "\n",
    "time.sleep(1)\n",
    "cherry.robot.say_sentence_local.start(\"Soit. De type mission impossible.\") \n",
    "\n",
    "time.sleep(2)\n",
    "with open(\"../utils/moveRecord/step11.move\") as f:\n",
    "    m = Move.load(f)\n",
    "move_player = MovePlayer(cherry.robot, m)\n",
    "move_player.start()\n",
    "\n",
    "cherry.robot.say_sentence_local.start(\"Soit. De type Nintendo.\")\n",
    "\n",
    "time.sleep(2)\n",
    "with open(\"../utils/moveRecord/step12.move\") as f:\n",
    "    m = Move.load(f)\n",
    "move_player = MovePlayer(cherry.robot, m)\n",
    "move_player.start()\n",
    "\n",
    "time.sleep(2)\n",
    "cherry.robot.say_sentence_local.start(\"ite ize possibeule. Bicause.\") \n",
    "\n",
    "time.sleep(2)\n",
    "with open(\"../utils/moveRecord/step13.move\") as f:\n",
    "    m = Move.load(f)\n",
    "move_player = MovePlayer(cherry.robot, m)\n",
    "move_player.start()\n",
    "\n",
    "time.sleep(3)\n",
    "cherry.robot.say_sentence_local.start(\"Rodri gue aise!\") \n",
    "\n"
   ]
  },
  {
   "cell_type": "code",
   "execution_count": null,
   "metadata": {
    "collapsed": true
   },
   "outputs": [],
   "source": [
    "#CHERRY EXTRAVERTI\n",
    "\n",
    "import pygame\n",
    "import time\n",
    "import random\n",
    "import sys\n",
    "from threading import Thread, RLock\n",
    "\n",
    "def get():\n",
    "    out = [0,0,0,0,0,0,0,0,0,0,0,0,0,0,0,0,0]\n",
    "    it = 0 #iterator\n",
    "    pygame.event.pump()\n",
    "    \n",
    "    #Read input from the two joysticks       \n",
    "    for i in range(0, j.get_numaxes()):\n",
    "        out[it] = j.get_axis(i)\n",
    "        it+=1\n",
    "\n",
    "    for i in range(0,j.get_numhats()):\n",
    "        out[it] = j.get_hat(i)\n",
    "        it+=1\n",
    "\n",
    "    #Read input from buttons\n",
    "    for i in range(0, j.get_numbuttons()):\n",
    "        out[it] = j.get_button(i)\n",
    "        it+=1\n",
    "    return out\n",
    "\n",
    "verrou = RLock()\n",
    "        \n",
    "class GamePadRead(Thread):\n",
    "\n",
    "    \"\"\"Thread chargé simplement d'afficher un mot dans la console.\"\"\"\n",
    "\n",
    "    def __init__(self, mot):\n",
    "        Thread.__init__(self)\n",
    "        self.mot = mot\n",
    "        self.running = False\n",
    "        self.zHead = cherry.robot.head_z.present_position\n",
    "        self.yHead = cherry.robot.head_y.present_position\n",
    "\n",
    "    def run(self):\n",
    "        \"\"\"Code à exécuter pendant l'exécution du thread.\"\"\"\n",
    "        self.running = True\n",
    "        while self.running:\n",
    "            with verrou:\n",
    "                tab = get()\n",
    "                \n",
    "                #Mouvement de tête avec le Hat\n",
    "                temp = tab[4][0]*2\n",
    "                if(-90<self.zHead+temp <90):\n",
    "                    self.zHead += tab[4][0]*2\n",
    "                \n",
    "                temp = tab[4][1]*(-2)\n",
    "                if(self.yHead+temp < 20):\n",
    "                    self.yHead += temp\n",
    "                \n",
    "                cherry.robot.head_z.goal_position = self.zHead\n",
    "                cherry.robot.head_y.goal_position = self.yHead\n",
    "                \n",
    "                \n",
    "                #Mouvement\n",
    "                if tab[5] == 1 :\n",
    "                    cherry.robot.rest_position.start()\n",
    "                \n",
    "                if tab[6] == 1 :\n",
    "                    cherry.robot.me_behave.start()\n",
    "                    \n",
    "                if tab[7] == 1 :\n",
    "                    cherry.robot.me_arm_behave.start()\n",
    "                    \n",
    "                if tab[8] == 1 :\n",
    "                    cherry.robot.question_behave.start()\n",
    "                \n",
    "                if tab[9] == 1 :\n",
    "                    cherry.robot.extra_arms_up.start()\n",
    "                    \n",
    "                if tab[10] == 1 :\n",
    "                    cherry.robot.hug_behave.start()\n",
    "                \n",
    "                if tab[11] == 1 :\n",
    "                    cherry.robot.hunkers_behave.start()\n",
    "                \n",
    "                if tab[12] == 1 :\n",
    "                    cherry.robot.laugh_behave.start()\n",
    "                \n",
    "                if tab[13] == 1 :\n",
    "                    cherry.robot.show_right_rest_behave.start()\n",
    "                    \n",
    "                if tab[0] < -0.9 :\n",
    "                    cherry.robot.left_arms_behave.start()\n",
    "                    \n",
    "                if tab[0] > 0.9 :\n",
    "                    cherry.robot.right_arms_behave.start()\n",
    "                    \n",
    "                if tab[1] < -0.9 :\n",
    "                    cherry.robot.right_hand_up_behave.start()\n",
    "                    \n",
    "                if tab[1] > 0.9 :\n",
    "                    cherry.robot.show_front_hunkers_behave.start()\n",
    "                \n",
    "                time.sleep(0.02)\n",
    "                \n",
    "    def stop(self):\n",
    "        self.running = False"
   ]
  },
  {
   "cell_type": "code",
   "execution_count": null,
   "metadata": {
    "collapsed": true
   },
   "outputs": [],
   "source": [
    "#CHERRY AGREABLE\n",
    "\n",
    "import pygame\n",
    "import time\n",
    "import random\n",
    "import sys\n",
    "from threading import Thread, RLock\n",
    "\n",
    "def get():\n",
    "    out = [0,0,0,0,0,0,0,0,0,0,0,0,0,0,0,0,0]\n",
    "    it = 0 #iterator\n",
    "    pygame.event.pump()\n",
    "    \n",
    "    #Read input from the two joysticks       \n",
    "    for i in range(0, j.get_numaxes()):\n",
    "        out[it] = j.get_axis(i)\n",
    "        it+=1\n",
    "\n",
    "    for i in range(0,j.get_numhats()):\n",
    "        out[it] = j.get_hat(i)\n",
    "        it+=1\n",
    "\n",
    "    #Read input from buttons\n",
    "    for i in range(0, j.get_numbuttons()):\n",
    "        out[it] = j.get_button(i)\n",
    "        it+=1\n",
    "    return out\n",
    "\n",
    "verrou = RLock()\n",
    "        \n",
    "class GamePadRead(Thread):\n",
    "\n",
    "    \"\"\"Thread chargé simplement d'afficher un mot dans la console.\"\"\"\n",
    "\n",
    "    def __init__(self, mot):\n",
    "        Thread.__init__(self)\n",
    "        self.mot = mot\n",
    "        self.running = False\n",
    "        self.zHead = cherry.robot.head_z.present_position\n",
    "        self.yHead = cherry.robot.head_y.present_position\n",
    "\n",
    "    def run(self):\n",
    "        \"\"\"Code à exécuter pendant l'exécution du thread.\"\"\"\n",
    "        self.running = True\n",
    "        runPrimitive = False\n",
    "        while self.running:\n",
    "            with verrou:\n",
    "                tab = get()\n",
    "                \n",
    "                #Mouvement de tête avec le Hat\n",
    "                temp = tab[4][0]*2\n",
    "                if(-90<self.zHead+temp <90):\n",
    "                    self.zHead += tab[4][0]*2\n",
    "                \n",
    "                temp = tab[4][1]*(-2)\n",
    "                if(self.yHead+temp < 20):\n",
    "                    self.yHead += temp\n",
    "                \n",
    "                cherry.robot.head_z.goal_position = self.zHead\n",
    "                cherry.robot.head_y.goal_position = self.yHead\n",
    "                \n",
    "                \n",
    "                #Mouvement\n",
    "                if tab[5] == 1 :\n",
    "                    cherry.robot.rest_position.start()\n",
    "                    runPrimitive = True\n",
    "                \n",
    "                if tab[6] == 1 :\n",
    "                    cherry.robot.rest_tilted_behave.start()\n",
    "                    runPrimitive = True\n",
    "                    \n",
    "                if tab[7] == 1 :\n",
    "                    cherry.robot.question_behave.start()\n",
    "                    runPrimitive = True\n",
    "                    \n",
    "                if tab[8] == 1 :\n",
    "                    cherry.robot.left_arm_up_behave.start()\n",
    "                    runPrimitive = True\n",
    "                \n",
    "                if tab[9] == 1 :\n",
    "                    cherry.robot.me_behave.start()\n",
    "                    runPrimitive = True\n",
    "                    \n",
    "                if tab[10] == 1 :\n",
    "                    cherry.robot.you_and_me_behave.start()\n",
    "                    runPrimitive = True\n",
    "                \n",
    "                if tab[11] == 1 :\n",
    "                    cherry.robot.little_laugh_behave.start()\n",
    "                    runPrimitive = True\n",
    "                \n",
    "                if tab[12] == 1 :\n",
    "                    cherry.robot.sigh_behave.start()\n",
    "                    runPrimitive = True\n",
    "                \n",
    "                if tab[13] == 1 :\n",
    "                    cherry.robot.show_right_rest_behave.start()\n",
    "                    runPrimitive = True\n",
    "                    \n",
    "                if tab[0] < -0.9 :\n",
    "                    cherry.robot.left_arms_behave.start()\n",
    "                    runPrimitive = True\n",
    "                    \n",
    "                if tab[0] > 0.9 :\n",
    "                    cherry.robot.right_arms_behave.start()\n",
    "                    runPrimitive = True\n",
    "                    \n",
    "                if tab[1] < -0.9 :\n",
    "                    cherry.robot.little_hug_behave.start()\n",
    "                    runPrimitive = True\n",
    "                    \n",
    "                if tab[1] > 0.9 :\n",
    "                    cherry.robot.show_front_hunkers_behave.start()\n",
    "                    runPrimitive = True\n",
    "                \n",
    "                if runPrimitive :\n",
    "                    time.sleep(0.2)\n",
    "                    runPrimitive = False\n",
    "                \n",
    "                time.sleep(0.02)\n",
    "                \n",
    "    def stop(self):\n",
    "        self.running = False"
   ]
  },
  {
   "cell_type": "code",
   "execution_count": null,
   "metadata": {
    "collapsed": false
   },
   "outputs": [],
   "source": [
    "pygame.init()\n",
    "j = pygame.joystick.Joystick(0)\n",
    "j.init()\n",
    "print 'Initialized Joystick : %s' % j.get_name()\n",
    "for m in cherry.robot.arms :\n",
    "    m.compliant = False\n",
    "for m in cherry.robot.motors:\n",
    "    m.moving_speed = 0\n",
    "\n",
    "thread = GamePadRead(\"Test\")\n",
    "thread.start()"
   ]
  },
  {
   "cell_type": "code",
   "execution_count": null,
   "metadata": {
    "collapsed": false
   },
   "outputs": [],
   "source": [
    "thread.stop()"
   ]
  }
 ],
 "metadata": {
  "kernelspec": {
   "display_name": "Python 2",
   "language": "python",
   "name": "python2"
  },
  "language_info": {
   "codemirror_mode": {
    "name": "ipython",
    "version": 2
   },
   "file_extension": ".py",
   "mimetype": "text/x-python",
   "name": "python",
   "nbconvert_exporter": "python",
   "pygments_lexer": "ipython2",
   "version": "2.7.11"
  }
 },
 "nbformat": 4,
 "nbformat_minor": 0
}
