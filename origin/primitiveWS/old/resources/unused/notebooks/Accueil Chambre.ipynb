{
 "cells": [
  {
   "cell_type": "markdown",
   "metadata": {},
   "source": [
    "#DEMO ACCUEIL CHAMBRE"
   ]
  },
  {
   "cell_type": "markdown",
   "metadata": {},
   "source": [
    "##Initialisation de Cherry"
   ]
  },
  {
   "cell_type": "code",
   "execution_count": null,
   "metadata": {
    "collapsed": false
   },
   "outputs": [],
   "source": [
    "import time\n",
    "from poppy.creatures import PoppyHumanoid\n",
    "from cherry import Cherry\n",
    "\n",
    "from pypot.primitive.move import MoveRecorder, Move, MovePlayer\n",
    "\n",
    "cherry = Cherry()\n",
    "cherry.setup()\n",
    "\n",
    "for m in cherry.robot.motors :\n",
    "    m.goal_position = 0.0\n",
    "    \n",
    "for m in cherry.robot.head :\n",
    "    m.compliant = False\n",
    "for m in cherry.robot.arms :\n",
    "    m.compliant = True\n",
    "\n",
    "cherry.robot.head_z.goal_position = 0.0\n",
    "cherry.robot.head_y.goal_position = 0.0"
   ]
  },
  {
   "cell_type": "markdown",
   "metadata": {},
   "source": [
    "##Initialisation thread audio"
   ]
  },
  {
   "cell_type": "code",
   "execution_count": null,
   "metadata": {
    "collapsed": false
   },
   "outputs": [],
   "source": [
    "import time\n",
    "import sys\n",
    "from threading import Thread, RLock\n",
    "import mp3play\n",
    "        \n",
    "class MP3Read(Thread):\n",
    "\n",
    "    \"\"\"Thread chargé simplement d'afficher un mot dans la console.\"\"\"\n",
    "\n",
    "    def __init__(self, fname):\n",
    "        Thread.__init__(self)\n",
    "        self.filename = fname\n",
    "\n",
    "    def run(self):\n",
    "        mp3 = mp3play.load(self.filename)\n",
    "        mp3.play()\n",
    "        time.sleep(min(35, mp3.seconds()))\n",
    "        mp3.stop()"
   ]
  },
  {
   "cell_type": "markdown",
   "metadata": {},
   "source": [
    "##Initialisation thread controle des mouvements présentation"
   ]
  },
  {
   "cell_type": "code",
   "execution_count": null,
   "metadata": {
    "collapsed": false
   },
   "outputs": [],
   "source": [
    "#CHERRY EXTRAVERTI\n",
    "\n",
    "import pygame\n",
    "import time\n",
    "import random\n",
    "import sys\n",
    "from threading import Thread, RLock\n",
    "\n",
    "def get():\n",
    "    out = [0,0,0,0,0,0,0,0,0,0,0,0,0,0,0,0,0]\n",
    "    it = 0 #iterator\n",
    "    pygame.event.pump()\n",
    "    \n",
    "    #Read input from the two joysticks       \n",
    "    for i in range(0, j.get_numaxes()):\n",
    "        out[it] = j.get_axis(i)\n",
    "        it+=1\n",
    "\n",
    "    for i in range(0,j.get_numhats()):\n",
    "        out[it] = j.get_hat(i)\n",
    "        it+=1\n",
    "\n",
    "    #Read input from buttons\n",
    "    for i in range(0, j.get_numbuttons()):\n",
    "        out[it] = j.get_button(i)\n",
    "        it+=1\n",
    "    return out\n",
    "\n",
    "verrou = RLock()\n",
    "        \n",
    "class GamePadRead(Thread):\n",
    "\n",
    "    \"\"\"Thread chargé simplement d'afficher un mot dans la console.\"\"\"\n",
    "\n",
    "    def __init__(self, mot):\n",
    "        Thread.__init__(self)\n",
    "        self.mot = mot\n",
    "        self.running = False\n",
    "        self.zHead = cherry.robot.head_z.present_position\n",
    "        self.yHead = cherry.robot.head_y.present_position\n",
    "\n",
    "    def run(self):\n",
    "        \"\"\"Code à exécuter pendant l'exécution du thread.\"\"\"\n",
    "        self.running = True\n",
    "        while self.running:\n",
    "            with verrou:\n",
    "                tab = get()\n",
    "                \n",
    "                #Mouvement de tête avec le Hat\n",
    "                temp = tab[4][0]*2\n",
    "                if(-90<self.zHead+temp <90):\n",
    "                    self.zHead += tab[4][0]*2\n",
    "                \n",
    "                temp = tab[4][1]*(-2)\n",
    "                if(self.yHead+temp < 20):\n",
    "                    self.yHead += temp\n",
    "                \n",
    "                cherry.robot.head_z.goal_position = self.zHead\n",
    "                cherry.robot.head_y.goal_position = self.yHead\n",
    "                \n",
    "                \n",
    "                #Mouvement\n",
    "                if tab[5] == 1 :\n",
    "                    cherry.robot.extra_arms_up.start()\n",
    "                    time.sleep(0.5)\n",
    "\n",
    "                    threadMp3 = MP3Read('../utils/audio/extraverti/Phrase1.mp3')\n",
    "                    threadMp3.start()\n",
    "\n",
    "                    time.sleep(1)\n",
    "                    cherry.robot.me_behave.start()\n",
    "                    time.sleep(1.2)\n",
    "                    cherry.robot.question_behave.start()\n",
    "                    time.sleep(1.3)\n",
    "                    cherry.robot.rest_position.start()\n",
    "                    \n",
    "                \n",
    "                if tab[6] == 1:\n",
    "                    threadMp3 = MP3Read('../utils/audio/extraverti/Phrase2short.mp3')\n",
    "                    threadMp3.start()\n",
    "\n",
    "                    cherry.robot.hug_behave.start()\n",
    "                    time.sleep(1.5)\n",
    "\n",
    "                    cherry.robot.me_behave.start()\n",
    "                    time.sleep(1.3)\n",
    "                    cherry.robot.rest_position.start()\n",
    "                    \n",
    "                if tab[7] == 1 :\n",
    "                    threadMp3 = MP3Read('../utils/audio/extraverti/Phrase2.mp3')\n",
    "                    threadMp3.start()\n",
    "\n",
    "                    time.sleep(0.8)\n",
    "\n",
    "                    cherry.robot.hug_behave.start()\n",
    "                    time.sleep(1.7)\n",
    "\n",
    "                    cherry.robot.me_behave.start()\n",
    "                    time.sleep(1.3)\n",
    "                    cherry.robot.rest_position.start()\n",
    "                    \n",
    "                if tab[8] == 1 :\n",
    "                    threadMp3 = MP3Read('../utils/audio/extraverti/Phrase3.mp3')\n",
    "                    threadMp3.start()\n",
    "\n",
    "                    cherry.robot.question_behave.start()\n",
    "                    time.sleep(1)\n",
    "                    cherry.robot.rest_position.start()   \n",
    "                    \n",
    "                if tab[9] == 1 :\n",
    "                    threadMp3 = MP3Read('../utils/audio/extraverti/Phrase4.mp3')\n",
    "                    threadMp3.start()\n",
    "                    time.sleep(0.5)\n",
    "                    \n",
    "                if tab[10] == 1 :\n",
    "                    threadMp3 = MP3Read('../utils/audio/extraverti/Phrase5.mp3')\n",
    "                    threadMp3.start()\n",
    "                    time.sleep(1)\n",
    "\n",
    "                    cherry.robot.laugh_behave.start()\n",
    "                    time.sleep(2.7)\n",
    "\n",
    "                    cherry.robot.rest_position.start()\n",
    "                \n",
    "                if tab[11] == 1 :\n",
    "                    threadMp3 = MP3Read('../utils/audio/extraverti/Phrase5Yes.mp3')\n",
    "                    threadMp3.start()\n",
    "                    time.sleep(1)\n",
    "\n",
    "                    cherry.robot.question_behave.start()\n",
    "                    time.sleep(1)\n",
    "\n",
    "                    cherry.robot.rest_position.start()\n",
    "                           \n",
    "                if tab[12] == 1 :\n",
    "                    cherry.robot.me_arm_behave.start()\n",
    "                    time.sleep(0.8)\n",
    "\n",
    "                    threadMp3 = MP3Read('../utils/audio/extraverti/Phrase7.mp3')\n",
    "                    threadMp3.start()\n",
    "\n",
    "                    time.sleep(1)\n",
    "\n",
    "                    cherry.robot.rest_position.start()\n",
    "                        \n",
    "                if tab[13] == 1 :\n",
    "                    threadMp3 = MP3Read('../utils/audio/oui.mp3')\n",
    "                    threadMp3.start()\n",
    "                    time.sleep(0.5)\n",
    "                \n",
    "                if tab[14] == 1 :\n",
    "                    threadMp3 = MP3Read('../utils/audio/non.mp3')\n",
    "                    threadMp3.start()\n",
    "                    time.sleep(0.5)\n",
    "\n",
    "                if tab[0] < -0.9 :\n",
    "                    cherry.robot.show_front_hunkers_behave.start()\n",
    "                    time.sleep(0.5)\n",
    "\n",
    "\n",
    "                    threadMp3 = MP3Read('../utils/audio/extraverti/Phrase10.mp3')\n",
    "                    threadMp3.start()\n",
    "                    time.sleep(1.2)\n",
    "\n",
    "                    cherry.robot.extra_arms_up.start()\n",
    "                    time.sleep(1.8)\n",
    "\n",
    "                    cherry.robot.question_behave.start()\n",
    "                    time.sleep(2)\n",
    "                    cherry.robot.rest_position.start()\n",
    "                    \n",
    "                if tab[0] > 0.9 :\n",
    "                    cherry.robot.hug_behave.start()\n",
    "                    time.sleep(0.9)\n",
    "\n",
    "\n",
    "                    threadMp3 = MP3Read('../utils/audio/extraverti/Phrase11.mp3')\n",
    "                    threadMp3.start()\n",
    "\n",
    "                    time.sleep(1)\n",
    "                    cherry.robot.rest_position.start()\n",
    "                    \n",
    "                if tab[1] < -0.9 :\n",
    "                    cherry.robot.extra_arms_up.start()\n",
    "                    time.sleep(0.8)\n",
    "                    threadMp3 = MP3Read('../utils/audio/extraverti/Phrase8.mp3')\n",
    "                    threadMp3.start()\n",
    "                    time.sleep(1.5)\n",
    "                    cherry.robot.question_behave.start()\n",
    "                    time.sleep(2)\n",
    "                    cherry.robot.me_behave.start()\n",
    "                    time.sleep(2)\n",
    "                    cherry.robot.rest_position.start()\n",
    "                    \n",
    "                if tab[1] > 0.9 :\n",
    "                    threadMp3 = MP3Read('../utils/audio/extraverti/Phrase9.mp3')\n",
    "                    threadMp3.start()\n",
    "\n",
    "                    time.sleep(0.5)\n",
    "\n",
    "                    cherry.robot.left_arms_behave.start()\n",
    "\n",
    "                    time.sleep(2)\n",
    "\n",
    "                    cherry.robot.right_arms_behave.start()\n",
    "\n",
    "                    time.sleep(1.5)\n",
    "\n",
    "                    cherry.robot.rest_position.start()\n",
    "\n",
    "                    time.sleep(2.5)\n",
    "\n",
    "                    cherry.robot.right_hand_up_behave.start()\n",
    "\n",
    "                    time.sleep(2.5)\n",
    "\n",
    "                    cherry.robot.rest_position.start()\n",
    "                \n",
    "                \n",
    "                if tab[2] > 0.9 :\n",
    "                    threadMp3 = MP3Read('../utils/audio/neSaisPas.mp3')\n",
    "                    threadMp3.start()\n",
    "                    time.sleep(1)\n",
    "                    \n",
    "                \n",
    "                if tab[2] < -0.9 :\n",
    "                    cherry.robot.copy_arm_behave.start()\n",
    "                    for m in cherry.robot.arms:\n",
    "                        m.moving_speed = 0\n",
    "                    time.sleep(0.5)\n",
    "                \n",
    "                if tab[3] < -0.9 :\n",
    "                    cherry.robot.copy_arm_behave.stop()\n",
    "                    for m in cherry.robot.arms:\n",
    "                        m.compliant = False\n",
    "                    \n",
    "                    cherry.robot.rest_position.start()\n",
    "                    time.sleep(0.5)\n",
    "                    \n",
    "                if tab[3] > 0.9 :\n",
    "                    cherry.robot.see_you_soon_behave.start()\n",
    "                    time.sleep(1.5)\n",
    "                    threadMp3 = MP3Read('../utils/audio/abientot.mp3')\n",
    "                    threadMp3.start()\n",
    "                    time.sleep(1)\n",
    "                    \n",
    "                \n",
    "                    \n",
    "                time.sleep(0.02)\n",
    "                \n",
    "    def stop(self):\n",
    "        self.running = False"
   ]
  },
  {
   "cell_type": "markdown",
   "metadata": {},
   "source": [
    "##Lancement controle Gamepad"
   ]
  },
  {
   "cell_type": "code",
   "execution_count": null,
   "metadata": {
    "collapsed": false
   },
   "outputs": [],
   "source": [
    "pygame.init()\n",
    "j = pygame.joystick.Joystick(0)\n",
    "j.init()\n",
    "print 'Initialized Joystick : %s' % j.get_name()\n",
    "for m in cherry.robot.arms :\n",
    "    m.compliant = False\n",
    "for m in cherry.robot.motors:\n",
    "    m.moving_speed = 0\n",
    "\n",
    "thread = GamePadRead(\"Test\")\n",
    "thread.start()"
   ]
  },
  {
   "cell_type": "code",
   "execution_count": null,
   "metadata": {
    "collapsed": true
   },
   "outputs": [],
   "source": [
    "thread.stop()"
   ]
  },
  {
   "cell_type": "markdown",
   "metadata": {},
   "source": [
    "##Primitives"
   ]
  },
  {
   "cell_type": "markdown",
   "metadata": {},
   "source": [
    "###Compliance des bras"
   ]
  },
  {
   "cell_type": "code",
   "execution_count": null,
   "metadata": {
    "collapsed": true
   },
   "outputs": [],
   "source": [
    "for m in cherry.robot.arms:\n",
    "    m.compliant = True"
   ]
  },
  {
   "cell_type": "code",
   "execution_count": null,
   "metadata": {
    "collapsed": true
   },
   "outputs": [],
   "source": [
    "for m in cherry.robot.arms:\n",
    "    m.compliant = False"
   ]
  },
  {
   "cell_type": "markdown",
   "metadata": {},
   "source": [
    "###Record"
   ]
  },
  {
   "cell_type": "code",
   "execution_count": null,
   "metadata": {
    "collapsed": true
   },
   "outputs": [],
   "source": [
    "fileName = \"../utils/moveRecord/test.move\""
   ]
  },
  {
   "cell_type": "code",
   "execution_count": null,
   "metadata": {
    "collapsed": true
   },
   "outputs": [],
   "source": [
    "move_recorder = MoveRecorder(cherry.robot, 50, cherry.robot.motors)\n",
    "\n",
    "for m in cherry.robot.arms:\n",
    "    m.compliant = True\n",
    "\n",
    "cherry.robot.abs_z.compliant = True    \n",
    "    \n",
    "move_recorder.start()"
   ]
  },
  {
   "cell_type": "code",
   "execution_count": null,
   "metadata": {
    "collapsed": true
   },
   "outputs": [],
   "source": [
    "move_recorder.stop()\n",
    "with open(fileName, 'w') as f:\n",
    "    move_recorder.move.save(f)"
   ]
  },
  {
   "cell_type": "code",
   "execution_count": null,
   "metadata": {
    "collapsed": true
   },
   "outputs": [],
   "source": [
    "import time\n",
    "\n",
    "with open(\"../utils/moveRecord/test.move\") as f:\n",
    "    m = Move.load(f)\n",
    "\n",
    "cherry.robot.compliant = False\n",
    "\n",
    "move_player = MovePlayer(cherry.robot, m)\n",
    "move_player.start()"
   ]
  },
  {
   "cell_type": "markdown",
   "metadata": {},
   "source": [
    "###Camera"
   ]
  },
  {
   "cell_type": "code",
   "execution_count": null,
   "metadata": {
    "collapsed": false
   },
   "outputs": [],
   "source": [
    "cherry.robot.run_look.start()"
   ]
  },
  {
   "cell_type": "code",
   "execution_count": null,
   "metadata": {
    "collapsed": false
   },
   "outputs": [],
   "source": [
    "cherry.camera.displayVideo()"
   ]
  },
  {
   "cell_type": "code",
   "execution_count": null,
   "metadata": {
    "collapsed": true
   },
   "outputs": [],
   "source": [
    "cherry.robot.tracking_behave.start()"
   ]
  },
  {
   "cell_type": "code",
   "execution_count": null,
   "metadata": {
    "collapsed": true
   },
   "outputs": [],
   "source": [
    "cherry.robot.tracking_behave.stop()\n",
    "cherry.robot.head_z.goal_position = 0.0\n",
    "cherry.robot.head_y.goal_position = 30.0"
   ]
  },
  {
   "cell_type": "code",
   "execution_count": null,
   "metadata": {
    "collapsed": true
   },
   "outputs": [],
   "source": [
    "import time\n",
    "import sys\n",
    "from threading import Thread, RLock\n",
    "import mp3play\n",
    "import cv2\n",
    "        \n",
    "class DisplayVideo(Thread):\n",
    "\n",
    "    \"\"\"Thread chargé simplement d'afficher un mot dans la console.\"\"\"\n",
    "\n",
    "    def __init__(self, frame):\n",
    "        Thread.__init__(self)\n",
    "        self._frame = frame\n",
    "        self.running = False\n",
    "        \n",
    "        \n",
    "        \n",
    "    def run(self):\n",
    "        self.running = True\n",
    "        while self.running:\n",
    "            cv2.imshow('Video', self._frame)\n",
    "            time.sleep(0.02)\n",
    "\n",
    "        #self._cam.release()\n",
    "        cv2.destroyAllWindows()\n",
    "        \n",
    "    def stop(self):\n",
    "        self.running = False"
   ]
  },
  {
   "cell_type": "code",
   "execution_count": null,
   "metadata": {
    "collapsed": false
   },
   "outputs": [],
   "source": [
    "threadVideo = DisplayVideo(cherry.camera._frame)\n",
    "threadVideo.start()"
   ]
  },
  {
   "cell_type": "code",
   "execution_count": null,
   "metadata": {
    "collapsed": true
   },
   "outputs": [],
   "source": [
    "threadVideo.stop()"
   ]
  }
 ],
 "metadata": {
  "kernelspec": {
   "display_name": "Python 2",
   "language": "python",
   "name": "python2"
  },
  "language_info": {
   "codemirror_mode": {
    "name": "ipython",
    "version": 2
   },
   "file_extension": ".py",
   "mimetype": "text/x-python",
   "name": "python",
   "nbconvert_exporter": "python",
   "pygments_lexer": "ipython2",
   "version": "2.7.11"
  }
 },
 "nbformat": 4,
 "nbformat_minor": 0
}
