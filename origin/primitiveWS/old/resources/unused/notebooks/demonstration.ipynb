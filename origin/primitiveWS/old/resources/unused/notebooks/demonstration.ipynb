{
 "cells": [
  {
   "cell_type": "code",
   "execution_count": 1,
   "metadata": {
    "collapsed": false
   },
   "outputs": [],
   "source": [
    "import time\n",
    "from poppy.creatures import PoppyHumanoid\n",
    "from cherry import Cherry\n",
    "\n",
    "from pypot.primitive.move import MoveRecorder, Move, MovePlayer"
   ]
  },
  {
   "cell_type": "code",
   "execution_count": 2,
   "metadata": {
    "collapsed": false
   },
   "outputs": [
    {
     "name": "stdout",
     "output_type": "stream",
     "text": [
      "init camera\n",
      "init voice ok\n",
      "True\n",
      "init ok\n",
      "init ok\n"
     ]
    }
   ],
   "source": [
    "cherry = Cherry()\n",
    "cherry.setup()\n",
    "\n",
    "for m in cherry.robot.motors :\n",
    "    m.goal_position = 0.0\n",
    "    \n",
    "for m in cherry.robot.head :\n",
    "    m.compliant = False\n",
    "for m in cherry.robot.arms :\n",
    "    m.compliant = True\n",
    "\n",
    "cherry.robot.head_z.goal_position = 0.0\n",
    "cherry.robot.head_y.goal_position = 30.0"
   ]
  },
  {
   "cell_type": "code",
   "execution_count": 3,
   "metadata": {
    "collapsed": false
   },
   "outputs": [
    {
     "name": "stdout",
     "output_type": "stream",
     "text": [
      "setup\n",
      "camera detectee!.\n"
     ]
    }
   ],
   "source": [
    "cherry.robot.run_look.start()"
   ]
  },
  {
   "cell_type": "code",
   "execution_count": null,
   "metadata": {
    "collapsed": false
   },
   "outputs": [],
   "source": [
    "cherry.camera.setup()"
   ]
  },
  {
   "cell_type": "code",
   "execution_count": null,
   "metadata": {
    "collapsed": false
   },
   "outputs": [],
   "source": [
    "cherry.robot.run_look.stop()\n",
    "cherry.camera.stop()"
   ]
  },
  {
   "cell_type": "code",
   "execution_count": null,
   "metadata": {
    "collapsed": false
   },
   "outputs": [],
   "source": [
    "cherry.camera.displayVideo()"
   ]
  },
  {
   "cell_type": "code",
   "execution_count": 12,
   "metadata": {
    "collapsed": false
   },
   "outputs": [],
   "source": [
    "cherry.robot.tracking_behave.start()"
   ]
  },
  {
   "cell_type": "code",
   "execution_count": 9,
   "metadata": {
    "collapsed": false
   },
   "outputs": [],
   "source": [
    "cherry.robot.tracking_behave.stop()\n",
    "cherry.robot.head_z.goal_position = 0.0\n",
    "cherry.robot.head_y.goal_position = 30.0"
   ]
  },
  {
   "cell_type": "code",
   "execution_count": null,
   "metadata": {
    "collapsed": false
   },
   "outputs": [],
   "source": [
    "name = cherry.camera._name\n",
    "cherry.robot.say_sentence_local.start(\"Bonjour ! \" + name + \" !\")"
   ]
  },
  {
   "cell_type": "code",
   "execution_count": null,
   "metadata": {
    "collapsed": false
   },
   "outputs": [],
   "source": [
    "cherry.camera.isSomebody"
   ]
  },
  {
   "cell_type": "code",
   "execution_count": null,
   "metadata": {
    "collapsed": false
   },
   "outputs": [],
   "source": [
    "import time\n",
    "\n",
    "for m in cherry.robot.arms:\n",
    "    m.compliant = False\n",
    "\n",
    "for m in cherry.robot.motors:\n",
    "    m.moving_speed = 150\n",
    "    \n",
    "cherry.robot.r_shoulder_x.goal_position = -90.0\n",
    "cherry.robot.l_shoulder_x.goal_position = 90.0\n",
    "\n",
    "cherry.robot.r_arm_z.goal_position = -80.0\n",
    "cherry.robot.r_elbow_y.goal_position = -30.0\n",
    "\n",
    "cherry.robot.l_arm_z.goal_position = 80.0\n",
    "cherry.robot.l_elbow_y.goal_position = -30.0\n",
    "\n",
    "time.sleep(0.5)\n",
    "\n",
    "cherry.robot.say_sentence_local.start(\"Rodri gue aise!\")\n",
    "cherry.robot.say_sentence_local.stop()\n",
    "\n",
    "time.sleep(0.5)\n",
    "\n",
    "for m in cherry.robot.motors:\n",
    "    m.moving_speed = 60\n",
    "    \n",
    "cherry.robot.r_shoulder_x.goal_position = -10.0\n",
    "cherry.robot.l_shoulder_x.goal_position = 10.0\n",
    "\n",
    "cherry.robot.r_arm_z.goal_position = -10.0\n",
    "cherry.robot.r_elbow_y.goal_position = -30.0\n",
    "\n",
    "cherry.robot.l_arm_z.goal_position = 10.0\n",
    "cherry.robot.l_elbow_y.goal_position = -30.0\n",
    "\n",
    "time.sleep(1.2)\n",
    "\n",
    "cherry.robot.r_elbow_y.moving_speed = 150\n",
    "cherry.robot.r_arm_z.goal_position = 50.0\n",
    "cherry.robot.r_elbow_y.goal_position = -145.0\n",
    "\n",
    "time.sleep(1)\n",
    "cherry.robot.say_sentence_local.start(\"Père\")\n",
    "cherry.robot.say_sentence_local.stop()\n",
    "time.sleep(0.1)\n",
    "\n",
    "for m in cherry.robot.motors:\n",
    "    m.moving_speed = 150\n",
    "    \n",
    "cherry.robot.r_shoulder_x.goal_position = -90.0\n",
    "cherry.robot.r_arm_z.goal_position = -80.0\n",
    "cherry.robot.r_elbow_y.goal_position = -30.0\n",
    "\n",
    "time.sleep(0.5)\n",
    "\n",
    "cherry.robot.say_sentence_local.start(\"Et Pisse !\")\n",
    "cherry.robot.say_sentence_local.stop()\n",
    "\n",
    "\n",
    "\n"
   ]
  },
  {
   "cell_type": "code",
   "execution_count": null,
   "metadata": {
    "collapsed": false
   },
   "outputs": [],
   "source": [
    "import time\n",
    "\n",
    "import math\n",
    "\n",
    "amp = 30 # in degrees\n",
    "freq = 0.5 # in Hz\n",
    "\n",
    "current, goal, = [], []\n",
    "\n",
    "\n",
    "position = 0.0\n",
    "k = 10\n",
    "errprec = 0.0\n",
    "cherry.robot.head_z.goal_position = position\n",
    "time.sleep(1)\n",
    "cherry.robot.head_z.moving_speed=0\n",
    "t0 = time.time()\n",
    "\n",
    "\n",
    "while True:\n",
    "    t = time.time()\n",
    "    if t - t0 > 2:\n",
    "        position = 90.0\n",
    "    # run for 5s\n",
    "    if t - t0 > 5:\n",
    "        break\n",
    "\n",
    "    #poppy.head_z.goal_position = amp * math.sin(2 * 3.14 * freq * t)\n",
    "    \n",
    "    mes = cherry.robot.head_z.present_position\n",
    "    err =  position - mes\n",
    "    #commande = 1.2*( err )+ 1.2*(err - errprec) + position\n",
    "    \n",
    "    commande = position + 1.2*( err )+ 1.2*(err - errprec)\n",
    "    cherry.robot.head_z.goal_position = position\n",
    "    \n",
    "    \n",
    "    current.append(mes)\n",
    "    goal.append(position)\n",
    "    #errprec = err\n",
    "    time.sleep(0.01)\n",
    "\n",
    "%pylab inline\n",
    "import matplotlib.pyplot as plt\n",
    "\n",
    "t = linspace(0, 5, len(current))\n",
    "plot(t, goal)\n",
    "plot(t, current)\n",
    "axis([1.5, 4, -10, 100])\n",
    "\n",
    "legend(('goal', 'current','com'))"
   ]
  },
  {
   "cell_type": "code",
   "execution_count": null,
   "metadata": {
    "collapsed": false
   },
   "outputs": [],
   "source": [
    "{p.name for p in cherry.robot.primitives}"
   ]
  },
  {
   "cell_type": "code",
   "execution_count": null,
   "metadata": {
    "collapsed": false
   },
   "outputs": [],
   "source": [
    "cherry.robot.wave_behave.start()"
   ]
  },
  {
   "cell_type": "code",
   "execution_count": null,
   "metadata": {
    "collapsed": false
   },
   "outputs": [],
   "source": [
    "cherry.robot.wave_behave.stop()"
   ]
  },
  {
   "cell_type": "code",
   "execution_count": null,
   "metadata": {
    "collapsed": false
   },
   "outputs": [],
   "source": [
    "cherry.robot.take_head_behave.start()"
   ]
  },
  {
   "cell_type": "code",
   "execution_count": null,
   "metadata": {
    "collapsed": false
   },
   "outputs": [],
   "source": [
    "cherry.robot.normal_behave.start()"
   ]
  },
  {
   "cell_type": "code",
   "execution_count": null,
   "metadata": {
    "collapsed": false
   },
   "outputs": [],
   "source": [
    "cherry.robot.yes_behave.start()"
   ]
  },
  {
   "cell_type": "code",
   "execution_count": null,
   "metadata": {
    "collapsed": false
   },
   "outputs": [],
   "source": [
    "cherry.robot.yes_behave.stop()"
   ]
  },
  {
   "cell_type": "code",
   "execution_count": null,
   "metadata": {
    "collapsed": false
   },
   "outputs": [],
   "source": [
    "cherry.robot.copy_arm_behave.start()"
   ]
  },
  {
   "cell_type": "code",
   "execution_count": null,
   "metadata": {
    "collapsed": false
   },
   "outputs": [],
   "source": [
    "cherry.robot.copy_arm_behave.stop()"
   ]
  },
  {
   "cell_type": "code",
   "execution_count": null,
   "metadata": {
    "collapsed": false
   },
   "outputs": [],
   "source": [
    "move_recorder = MoveRecorder(cherry.robot, 50, cherry.robot.motors)\n",
    "\n",
    "for m in cherry.robot.arms:\n",
    "    m.compliant = True\n",
    "\n",
    "for m in cherry.robot.head:\n",
    "    m.compliant = True    \n",
    "    \n",
    "move_recorder.start()"
   ]
  },
  {
   "cell_type": "code",
   "execution_count": null,
   "metadata": {
    "collapsed": false
   },
   "outputs": [],
   "source": [
    "for m in cherry.robot.head:\n",
    "    m.compliant = False"
   ]
  },
  {
   "cell_type": "code",
   "execution_count": null,
   "metadata": {
    "collapsed": false
   },
   "outputs": [],
   "source": [
    "for m in cherry.robot.arms:\n",
    "    m.compliant = True"
   ]
  },
  {
   "cell_type": "code",
   "execution_count": null,
   "metadata": {
    "collapsed": false
   },
   "outputs": [],
   "source": [
    "move_recorder.stop()"
   ]
  },
  {
   "cell_type": "code",
   "execution_count": null,
   "metadata": {
    "collapsed": false
   },
   "outputs": [],
   "source": [
    "import time\n",
    "\n",
    "with open('my_nice_move.move', 'w') as f:\n",
    "    move_recorder.move.save(f)\n",
    "\n",
    "with open('my_nice_move.move') as f:\n",
    "    m = Move.load(f)\n",
    "\n",
    "cherry.robot.compliant = False\n",
    "\n",
    "move_player = MovePlayer(cherry.robot, m)\n",
    "move_player.start()"
   ]
  },
  {
   "cell_type": "code",
   "execution_count": null,
   "metadata": {
    "collapsed": false
   },
   "outputs": [],
   "source": [
    "cherry.robot.r_shoulder_x.goal_speed = -70"
   ]
  },
  {
   "cell_type": "code",
   "execution_count": null,
   "metadata": {
    "collapsed": false
   },
   "outputs": [],
   "source": [
    "for m in cherry.robot.motors :\n",
    "    m.goal_position = 0.0"
   ]
  },
  {
   "cell_type": "code",
   "execution_count": null,
   "metadata": {
    "collapsed": true
   },
   "outputs": [],
   "source": [
    "cherry.robot.head_z.goal_speed = -100"
   ]
  },
  {
   "cell_type": "code",
   "execution_count": null,
   "metadata": {
    "collapsed": true
   },
   "outputs": [],
   "source": []
  }
 ],
 "metadata": {
  "kernelspec": {
   "display_name": "Python 2",
   "language": "python",
   "name": "python2"
  },
  "language_info": {
   "codemirror_mode": {
    "name": "ipython",
    "version": 2
   },
   "file_extension": ".py",
   "mimetype": "text/x-python",
   "name": "python",
   "nbconvert_exporter": "python",
   "pygments_lexer": "ipython2",
   "version": "2.7.11"
  }
 },
 "nbformat": 4,
 "nbformat_minor": 0
}
